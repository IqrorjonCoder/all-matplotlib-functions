{
 "cells": [
  {
   "cell_type": "code",
   "execution_count": 1,
   "metadata": {
    "collapsed": true
   },
   "outputs": [
    {
     "name": "stdout",
     "output_type": "stream",
     "text": [
      "The top level container for all the plot elements.\n",
      "\n",
      "Attributes\n",
      "----------\n",
      "patch\n",
      "    The `.Rectangle` instance representing the figure background patch.\n",
      "\n",
      "suppressComposite\n",
      "    For multiple images, the figure will make composite images\n",
      "    depending on the renderer option_image_nocomposite function.  If\n",
      "    *suppressComposite* is a boolean, this will override the renderer.\n"
     ]
    }
   ],
   "source": [
    "from matplotlib import pyplot as plt\n",
    "\n",
    "print(plt.Figure.__doc__)"
   ]
  },
  {
   "cell_type": "code",
   "execution_count": 22,
   "outputs": [
    {
     "name": "stdout",
     "output_type": "stream",
     "text": [
      "AxesSubplot(0.125,0.53;0.775x0.35) AxesSubplot(0.125,0.11;0.775x0.35)\n"
     ]
    }
   ],
   "source": [
    "fig, ax = plt.Figure(facecolor='red').subplots(2,1)\n",
    "print(fig, ax)"
   ],
   "metadata": {
    "collapsed": false
   }
  }
 ],
 "metadata": {
  "kernelspec": {
   "display_name": "Python 3",
   "language": "python",
   "name": "python3"
  },
  "language_info": {
   "codemirror_mode": {
    "name": "ipython",
    "version": 2
   },
   "file_extension": ".py",
   "mimetype": "text/x-python",
   "name": "python",
   "nbconvert_exporter": "python",
   "pygments_lexer": "ipython2",
   "version": "2.7.6"
  }
 },
 "nbformat": 4,
 "nbformat_minor": 0
}
