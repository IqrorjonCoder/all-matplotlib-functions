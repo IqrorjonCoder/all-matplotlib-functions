{
 "cells": [
  {
   "cell_type": "code",
   "execution_count": 1,
   "metadata": {
    "collapsed": true
   },
   "outputs": [
    {
     "name": "stdout",
     "output_type": "stream",
     "text": [
      "\n",
      "    Disable interactive mode.\n",
      "\n",
      "    See `.pyplot.isinteractive` for more details.\n",
      "\n",
      "    See Also\n",
      "    --------\n",
      "    ion : Enable interactive mode.\n",
      "    isinteractive : Whether interactive mode is enabled.\n",
      "    show : Show all figures (and maybe block).\n",
      "    pause : Show all figures, and block for a time.\n",
      "\n",
      "    Notes\n",
      "    -----\n",
      "    For a temporary change, this can be used as a context manager::\n",
      "\n",
      "        # if interactive mode is on\n",
      "        # then figures will be shown on creation\n",
      "        plt.ion()\n",
      "        # This figure will be shown immediately\n",
      "        fig = plt.figure()\n",
      "\n",
      "        with plt.ioff():\n",
      "            # interactive mode will be off\n",
      "            # figures will not automatically be shown\n",
      "            fig2 = plt.figure()\n",
      "            # ...\n",
      "\n",
      "    To enable optional usage as a context manager, this function returns a\n",
      "    `~contextlib.ExitStack` object, which is not intended to be stored or\n",
      "    accessed by the user.\n",
      "    \n"
     ]
    }
   ],
   "source": [
    "from matplotlib import pyplot as plt\n",
    "\n",
    "print(plt.ioff.__doc__)"
   ]
  },
  {
   "cell_type": "code",
   "execution_count": 15,
   "outputs": [],
   "source": [
    "with plt.ioff():\n",
    "    plt.plot([1,2],\n",
    "             [2,3])\n",
    "    # plt.show()"
   ],
   "metadata": {
    "collapsed": false
   }
  }
 ],
 "metadata": {
  "kernelspec": {
   "display_name": "Python 3",
   "language": "python",
   "name": "python3"
  },
  "language_info": {
   "codemirror_mode": {
    "name": "ipython",
    "version": 2
   },
   "file_extension": ".py",
   "mimetype": "text/x-python",
   "name": "python",
   "nbconvert_exporter": "python",
   "pygments_lexer": "ipython2",
   "version": "2.7.6"
  }
 },
 "nbformat": 4,
 "nbformat_minor": 0
}
