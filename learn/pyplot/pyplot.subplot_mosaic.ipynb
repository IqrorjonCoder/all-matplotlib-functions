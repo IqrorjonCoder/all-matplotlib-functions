{
 "cells": [
  {
   "cell_type": "code",
   "execution_count": 1,
   "metadata": {
    "collapsed": true
   },
   "outputs": [
    {
     "name": "stdout",
     "output_type": "stream",
     "text": [
      "\n",
      "    Build a layout of Axes based on ASCII art or nested lists.\n",
      "\n",
      "    This is a helper function to build complex GridSpec layouts visually.\n",
      "\n",
      "    .. note::\n",
      "\n",
      "       This API is provisional and may be revised in the future based on\n",
      "       early user feedback.\n",
      "\n",
      "    See :doc:`/tutorials/provisional/mosaic`\n",
      "    for an example and full API documentation\n",
      "\n",
      "    Parameters\n",
      "    ----------\n",
      "    mosaic : list of list of {hashable or nested} or str\n",
      "\n",
      "        A visual layout of how you want your Axes to be arranged\n",
      "        labeled as strings.  For example ::\n",
      "\n",
      "           x = [['A panel', 'A panel', 'edge'],\n",
      "                ['C panel', '.',       'edge']]\n",
      "\n",
      "        produces 4 axes:\n",
      "\n",
      "        - 'A panel' which is 1 row high and spans the first two columns\n",
      "        - 'edge' which is 2 rows high and is on the right edge\n",
      "        - 'C panel' which in 1 row and 1 column wide in the bottom left\n",
      "        - a blank space 1 row and 1 column wide in the bottom center\n",
      "\n",
      "        Any of the entries in the layout can be a list of lists\n",
      "        of the same form to create nested layouts.\n",
      "\n",
      "        If input is a str, then it must be of the form ::\n",
      "\n",
      "          '''\n",
      "          AAE\n",
      "          C.E\n",
      "          '''\n",
      "\n",
      "        where each character is a column and each line is a row.\n",
      "        This only allows only single character Axes labels and does\n",
      "        not allow nesting but is very terse.\n",
      "\n",
      "    sharex, sharey : bool, default: False\n",
      "        If True, the x-axis (*sharex*) or y-axis (*sharey*) will be shared\n",
      "        among all subplots.  In that case, tick label visibility and axis units\n",
      "        behave as for `subplots`.  If False, each subplot's x- or y-axis will\n",
      "        be independent.\n",
      "\n",
      "    width_ratios : array-like of length *ncols*, optional\n",
      "        Defines the relative widths of the columns. Each column gets a\n",
      "        relative width of ``width_ratios[i] / sum(width_ratios)``.\n",
      "        If not given, all columns will have the same width.  Convenience\n",
      "        for ``gridspec_kw={'width_ratios': [...]}``.\n",
      "\n",
      "    height_ratios : array-like of length *nrows*, optional\n",
      "        Defines the relative heights of the rows. Each row gets a\n",
      "        relative height of ``height_ratios[i] / sum(height_ratios)``.\n",
      "        If not given, all rows will have the same height. Convenience\n",
      "        for ``gridspec_kw={'height_ratios': [...]}``.\n",
      "\n",
      "    empty_sentinel : object, optional\n",
      "        Entry in the layout to mean \"leave this space empty\".  Defaults\n",
      "        to ``'.'``. Note, if *layout* is a string, it is processed via\n",
      "        `inspect.cleandoc` to remove leading white space, which may\n",
      "        interfere with using white-space as the empty sentinel.\n",
      "\n",
      "    subplot_kw : dict, optional\n",
      "        Dictionary with keywords passed to the `.Figure.add_subplot` call\n",
      "        used to create each subplot.\n",
      "\n",
      "    gridspec_kw : dict, optional\n",
      "        Dictionary with keywords passed to the `.GridSpec` constructor used\n",
      "        to create the grid the subplots are placed on.\n",
      "\n",
      "    **fig_kw\n",
      "        All additional keyword arguments are passed to the\n",
      "        `.pyplot.figure` call.\n",
      "\n",
      "    Returns\n",
      "    -------\n",
      "    fig : `.Figure`\n",
      "       The new figure\n",
      "\n",
      "    dict[label, Axes]\n",
      "       A dictionary mapping the labels to the Axes objects.  The order of\n",
      "       the axes is left-to-right and top-to-bottom of their position in the\n",
      "       total layout.\n",
      "\n",
      "    \n"
     ]
    }
   ],
   "source": [
    "from matplotlib import pyplot as plt\n",
    "\n",
    "print(plt.subplot_mosaic.__doc__)"
   ]
  },
  {
   "cell_type": "code",
   "execution_count": 19,
   "outputs": [
    {
     "data": {
      "text/plain": "<Figure size 640x480 with 3 Axes>",
      "image/png": "[encoded data removed]"
     },
     "metadata": {},
     "output_type": "display_data"
    }
   ],
   "source": [
    "plt.subplot_mosaic(mosaic=[['A panel', 'A panel', 'A panel'],\n",
    "                           ['C panel', '.', 'B panel'],\n",
    "                           ['C panel', '.', 'B panel']],\n",
    "                   )\n",
    "# plt.savefig(\"/home/iqrorjoon/PycharmProjects/all matplotlib functions/base/simple_x.png\")"
   ],
   "metadata": {
    "collapsed": false
   }
  }
 ],
 "metadata": {
  "kernelspec": {
   "display_name": "Python 3",
   "language": "python",
   "name": "python3"
  },
  "language_info": {
   "codemirror_mode": {
    "name": "ipython",
    "version": 2
   },
   "file_extension": ".py",
   "mimetype": "text/x-python",
   "name": "python",
   "nbconvert_exporter": "python",
   "pygments_lexer": "ipython2",
   "version": "2.7.6"
  }
 },
 "nbformat": 4,
 "nbformat_minor": 0
}
