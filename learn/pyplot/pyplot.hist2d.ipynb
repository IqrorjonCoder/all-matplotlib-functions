{
 "cells": [
  {
   "cell_type": "code",
   "execution_count": 1,
   "metadata": {
    "collapsed": true
   },
   "outputs": [
    {
     "name": "stdout",
     "output_type": "stream",
     "text": [
      "Make a 2D histogram plot.\n",
      "\n",
      "Parameters\n",
      "----------\n",
      "x, y : array-like, shape (n, )\n",
      "    Input values\n",
      "\n",
      "bins : None or int or [int, int] or array-like or [array, array]\n",
      "\n",
      "    The bin specification:\n",
      "\n",
      "    - If int, the number of bins for the two dimensions\n",
      "      (nx=ny=bins).\n",
      "    - If ``[int, int]``, the number of bins in each dimension\n",
      "      (nx, ny = bins).\n",
      "    - If array-like, the bin edges for the two dimensions\n",
      "      (x_edges=y_edges=bins).\n",
      "    - If ``[array, array]``, the bin edges in each dimension\n",
      "      (x_edges, y_edges = bins).\n",
      "\n",
      "    The default value is 10.\n",
      "\n",
      "range : array-like shape(2, 2), optional\n",
      "    The leftmost and rightmost edges of the bins along each dimension\n",
      "    (if not specified explicitly in the bins parameters): ``[[xmin,\n",
      "    xmax], [ymin, ymax]]``. All values outside of this range will be\n",
      "    considered outliers and not tallied in the histogram.\n",
      "\n",
      "density : bool, default: False\n",
      "    Normalize histogram.  See the documentation for the *density*\n",
      "    parameter of `~.Axes.hist` for more details.\n",
      "\n",
      "weights : array-like, shape (n, ), optional\n",
      "    An array of values w_i weighing each sample (x_i, y_i).\n",
      "\n",
      "cmin, cmax : float, default: None\n",
      "    All bins that has count less than *cmin* or more than *cmax* will\n",
      "    not be displayed (set to NaN before passing to imshow) and these\n",
      "    count values in the return value count histogram will also be set\n",
      "    to nan upon return.\n",
      "\n",
      "Returns\n",
      "-------\n",
      "h : 2D array\n",
      "    The bi-dimensional histogram of samples x and y. Values in x are\n",
      "    histogrammed along the first dimension and values in y are\n",
      "    histogrammed along the second dimension.\n",
      "xedges : 1D array\n",
      "    The bin edges along the x axis.\n",
      "yedges : 1D array\n",
      "    The bin edges along the y axis.\n",
      "image : `~.matplotlib.collections.QuadMesh`\n",
      "\n",
      "Other Parameters\n",
      "----------------\n",
      "cmap : str or `~matplotlib.colors.Colormap`, default: :rc:`image.cmap`\n",
      "    The Colormap instance or registered colormap name used to map scalar data\n",
      "    to colors.\n",
      "\n",
      "norm : str or `~matplotlib.colors.Normalize`, optional\n",
      "    The normalization method used to scale scalar data to the [0, 1] range\n",
      "    before mapping to colors using *cmap*. By default, a linear scaling is\n",
      "    used, mapping the lowest value to 0 and the highest to 1.\n",
      "\n",
      "    If given, this can be one of the following:\n",
      "\n",
      "    - An instance of `.Normalize` or one of its subclasses\n",
      "      (see :doc:`/tutorials/colors/colormapnorms`).\n",
      "    - A scale name, i.e. one of \"linear\", \"log\", \"symlog\", \"logit\", etc.  For a\n",
      "      list of available scales, call `matplotlib.scale.get_scale_names()`.\n",
      "      In that case, a suitable `.Normalize` subclass is dynamically generated\n",
      "      and instantiated.\n",
      "\n",
      "vmin, vmax : float, optional\n",
      "    When using scalar data and no explicit *norm*, *vmin* and *vmax* define\n",
      "    the data range that the colormap covers. By default, the colormap covers\n",
      "    the complete value range of the supplied data. It is an error to use\n",
      "    *vmin*/*vmax* when a *norm* instance is given (but using a `str` *norm*\n",
      "    name together with *vmin*/*vmax* is acceptable).\n",
      "\n",
      "alpha : ``0 <= scalar <= 1`` or ``None``, optional\n",
      "    The alpha blending value.\n",
      "\n",
      "data : indexable object, optional\n",
      "    If given, the following parameters also accept a string ``s``, which is\n",
      "    interpreted as ``data[s]`` (unless this raises an exception):\n",
      "\n",
      "    *x*, *y*, *weights*\n",
      "\n",
      "**kwargs\n",
      "    Additional parameters are passed along to the\n",
      "    `~.Axes.pcolormesh` method and `~matplotlib.collections.QuadMesh`\n",
      "    constructor.\n",
      "\n",
      "See Also\n",
      "--------\n",
      "hist : 1D histogram plotting\n",
      "hexbin : 2D histogram with hexagonal bins\n",
      "\n",
      "Notes\n",
      "-----\n",
      "- Currently ``hist2d`` calculates its own axis limits, and any limits\n",
      "  previously set are ignored.\n",
      "- Rendering the histogram with a logarithmic color scale is\n",
      "  accomplished by passing a `.colors.LogNorm` instance to the *norm*\n",
      "  keyword argument. Likewise, power-law normalization (similar\n",
      "  in effect to gamma correction) can be accomplished with\n",
      "  `.colors.PowerNorm`.\n"
     ]
    }
   ],
   "source": [
    "from matplotlib import pyplot as plt\n",
    "\n",
    "print(plt.hist2d.__doc__)"
   ]
  },
  {
   "cell_type": "code",
   "execution_count": 9,
   "outputs": [
    {
     "data": {
      "text/plain": "<Figure size 640x480 with 1 Axes>",
      "image/png": "[encoded data removed]"
     },
     "metadata": {},
     "output_type": "display_data"
    }
   ],
   "source": [
    "plt.hist2d([1,2,3,4],\n",
    "           [2,3,4,5])\n",
    "\n",
    "plt.show()"
   ],
   "metadata": {
    "collapsed": false
   }
  }
 ],
 "metadata": {
  "kernelspec": {
   "display_name": "Python 3",
   "language": "python",
   "name": "python3"
  },
  "language_info": {
   "codemirror_mode": {
    "name": "ipython",
    "version": 2
   },
   "file_extension": ".py",
   "mimetype": "text/x-python",
   "name": "python",
   "nbconvert_exporter": "python",
   "pygments_lexer": "ipython2",
   "version": "2.7.6"
  }
 },
 "nbformat": 4,
 "nbformat_minor": 0
}
