{
 "cells": [
  {
   "cell_type": "code",
   "execution_count": 1,
   "metadata": {
    "collapsed": true
   },
   "outputs": [
    {
     "name": "stdout",
     "output_type": "stream",
     "text": [
      "\n",
      "    An `.Annotation` is a `.Text` that can refer to a specific position *xy*.\n",
      "    Optionally an arrow pointing from the text to *xy* can be drawn.\n",
      "\n",
      "    Attributes\n",
      "    ----------\n",
      "    xy\n",
      "        The annotated position.\n",
      "    xycoords\n",
      "        The coordinate system for *xy*.\n",
      "    arrow_patch\n",
      "        A `.FancyArrowPatch` to point from *xytext* to *xy*.\n",
      "    \n"
     ]
    }
   ],
   "source": [
    "from matplotlib import pyplot as plt\n",
    "\n",
    "plt.Annotation(text='simplee', xy=(1.0,2.0))\n",
    "\n",
    "print(plt.Annotation.__doc__)"
   ]
  }
 ],
 "metadata": {
  "kernelspec": {
   "display_name": "Python 3",
   "language": "python",
   "name": "python3"
  },
  "language_info": {
   "codemirror_mode": {
    "name": "ipython",
    "version": 2
   },
   "file_extension": ".py",
   "mimetype": "text/x-python",
   "name": "python",
   "nbconvert_exporter": "python",
   "pygments_lexer": "ipython2",
   "version": "2.7.6"
  }
 },
 "nbformat": 4,
 "nbformat_minor": 0
}
