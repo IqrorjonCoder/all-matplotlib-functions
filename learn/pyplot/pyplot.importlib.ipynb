{
 "cells": [
  {
   "cell_type": "code",
   "execution_count": 11,
   "metadata": {
    "collapsed": true
   },
   "outputs": [
    {
     "name": "stdout",
     "output_type": "stream",
     "text": [
      "A pure Python implementation of import.\n",
      "['__import__', 'import_module', 'invalidate_caches', 'reload']\n"
     ]
    }
   ],
   "source": [
    "from matplotlib import pyplot as plt\n",
    "\n",
    "print(plt.importlib.__doc__)\n",
    "print(plt.importlib.__all__)"
   ]
  },
  {
   "cell_type": "code",
   "execution_count": 19,
   "outputs": [
    {
     "name": "stdout",
     "output_type": "stream",
     "text": [
      "<module 'numpy' from '/home/iqrorjoon/PycharmProjects/all matplotlib functions/venv/lib/python3.8/site-packages/numpy/__init__.py'>\n",
      "<module 'pandas' from '/home/iqrorjoon/PycharmProjects/all matplotlib functions/venv/lib/python3.8/site-packages/pandas/__init__.py'>\n",
      "<module 'matplotlib' from '/home/iqrorjoon/PycharmProjects/all matplotlib functions/venv/lib/python3.8/site-packages/matplotlib/__init__.py'>\n"
     ]
    }
   ],
   "source": [
    "print(plt.importlib.import_module('numpy'))\n",
    "print(plt.importlib.import_module('pandas'))\n",
    "print(plt.importlib.import_module('matplotlib'))"
   ],
   "metadata": {
    "collapsed": false
   }
  }
 ],
 "metadata": {
  "kernelspec": {
   "display_name": "Python 3",
   "language": "python",
   "name": "python3"
  },
  "language_info": {
   "codemirror_mode": {
    "name": "ipython",
    "version": 2
   },
   "file_extension": ".py",
   "mimetype": "text/x-python",
   "name": "python",
   "nbconvert_exporter": "python",
   "pygments_lexer": "ipython2",
   "version": "2.7.6"
  }
 },
 "nbformat": 4,
 "nbformat_minor": 0
}
