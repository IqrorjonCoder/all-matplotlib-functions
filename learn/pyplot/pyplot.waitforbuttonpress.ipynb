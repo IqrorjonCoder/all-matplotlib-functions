{
 "cells": [
  {
   "cell_type": "code",
   "execution_count": 1,
   "metadata": {
    "collapsed": true
   },
   "outputs": [
    {
     "name": "stdout",
     "output_type": "stream",
     "text": [
      "\n",
      "        Blocking call to interact with the figure.\n",
      "\n",
      "        Wait for user input and return True if a key was pressed, False if a\n",
      "        mouse button was pressed and None if no input was given within\n",
      "        *timeout* seconds.  Negative values deactivate *timeout*.\n",
      "        \n"
     ]
    }
   ],
   "source": [
    "from matplotlib import pyplot as plt\n",
    "\n",
    "print(plt.waitforbuttonpress.__doc__)"
   ]
  },
  {
   "cell_type": "code",
   "execution_count": 2,
   "outputs": [
    {
     "name": "stderr",
     "output_type": "stream",
     "text": [
      "/tmp/ipykernel_5548/2190575192.py:1: UserWarning: Matplotlib is currently using module://matplotlib_inline.backend_inline, which is a non-GUI backend, so cannot show the figure.\n",
      "  plt.waitforbuttonpress()\n"
     ]
    },
    {
     "ename": "KeyboardInterrupt",
     "evalue": "",
     "output_type": "error",
     "traceback": [
      "\u001B[0;31m---------------------------------------------------------------------------\u001B[0m",
      "\u001B[0;31mKeyboardInterrupt\u001B[0m                         Traceback (most recent call last)",
      "Cell \u001B[0;32mIn[2], line 1\u001B[0m\n\u001B[0;32m----> 1\u001B[0m \u001B[43mplt\u001B[49m\u001B[38;5;241;43m.\u001B[39;49m\u001B[43mwaitforbuttonpress\u001B[49m\u001B[43m(\u001B[49m\u001B[43m)\u001B[49m\n",
      "File \u001B[0;32m~/PycharmProjects/all matplotlib functions/venv/lib/python3.8/site-packages/matplotlib/pyplot.py:2283\u001B[0m, in \u001B[0;36mwaitforbuttonpress\u001B[0;34m(timeout)\u001B[0m\n\u001B[1;32m   2281\u001B[0m \u001B[38;5;129m@_copy_docstring_and_deprecators\u001B[39m(Figure\u001B[38;5;241m.\u001B[39mwaitforbuttonpress)\n\u001B[1;32m   2282\u001B[0m \u001B[38;5;28;01mdef\u001B[39;00m \u001B[38;5;21mwaitforbuttonpress\u001B[39m(timeout\u001B[38;5;241m=\u001B[39m\u001B[38;5;241m-\u001B[39m\u001B[38;5;241m1\u001B[39m):\n\u001B[0;32m-> 2283\u001B[0m     \u001B[38;5;28;01mreturn\u001B[39;00m \u001B[43mgcf\u001B[49m\u001B[43m(\u001B[49m\u001B[43m)\u001B[49m\u001B[38;5;241;43m.\u001B[39;49m\u001B[43mwaitforbuttonpress\u001B[49m\u001B[43m(\u001B[49m\u001B[43mtimeout\u001B[49m\u001B[38;5;241;43m=\u001B[39;49m\u001B[43mtimeout\u001B[49m\u001B[43m)\u001B[49m\n",
      "File \u001B[0;32m~/PycharmProjects/all matplotlib functions/venv/lib/python3.8/site-packages/matplotlib/figure.py:3387\u001B[0m, in \u001B[0;36mFigure.waitforbuttonpress\u001B[0;34m(self, timeout)\u001B[0m\n\u001B[1;32m   3384\u001B[0m     event \u001B[38;5;241m=\u001B[39m ev\n\u001B[1;32m   3385\u001B[0m     \u001B[38;5;28mself\u001B[39m\u001B[38;5;241m.\u001B[39mcanvas\u001B[38;5;241m.\u001B[39mstop_event_loop()\n\u001B[0;32m-> 3387\u001B[0m \u001B[43m_blocking_input\u001B[49m\u001B[38;5;241;43m.\u001B[39;49m\u001B[43mblocking_input_loop\u001B[49m\u001B[43m(\u001B[49m\n\u001B[1;32m   3388\u001B[0m \u001B[43m    \u001B[49m\u001B[38;5;28;43mself\u001B[39;49m\u001B[43m,\u001B[49m\u001B[43m \u001B[49m\u001B[43m[\u001B[49m\u001B[38;5;124;43m\"\u001B[39;49m\u001B[38;5;124;43mbutton_press_event\u001B[39;49m\u001B[38;5;124;43m\"\u001B[39;49m\u001B[43m,\u001B[49m\u001B[43m \u001B[49m\u001B[38;5;124;43m\"\u001B[39;49m\u001B[38;5;124;43mkey_press_event\u001B[39;49m\u001B[38;5;124;43m\"\u001B[39;49m\u001B[43m]\u001B[49m\u001B[43m,\u001B[49m\u001B[43m \u001B[49m\u001B[43mtimeout\u001B[49m\u001B[43m,\u001B[49m\u001B[43m \u001B[49m\u001B[43mhandler\u001B[49m\u001B[43m)\u001B[49m\n\u001B[1;32m   3390\u001B[0m \u001B[38;5;28;01mreturn\u001B[39;00m \u001B[38;5;28;01mNone\u001B[39;00m \u001B[38;5;28;01mif\u001B[39;00m event \u001B[38;5;129;01mis\u001B[39;00m \u001B[38;5;28;01mNone\u001B[39;00m \u001B[38;5;28;01melse\u001B[39;00m event\u001B[38;5;241m.\u001B[39mname \u001B[38;5;241m==\u001B[39m \u001B[38;5;124m\"\u001B[39m\u001B[38;5;124mkey_press_event\u001B[39m\u001B[38;5;124m\"\u001B[39m\n",
      "File \u001B[0;32m~/PycharmProjects/all matplotlib functions/venv/lib/python3.8/site-packages/matplotlib/_blocking_input.py:26\u001B[0m, in \u001B[0;36mblocking_input_loop\u001B[0;34m(figure, event_names, timeout, handler)\u001B[0m\n\u001B[1;32m     24\u001B[0m cids \u001B[38;5;241m=\u001B[39m [figure\u001B[38;5;241m.\u001B[39mcanvas\u001B[38;5;241m.\u001B[39mmpl_connect(name, handler) \u001B[38;5;28;01mfor\u001B[39;00m name \u001B[38;5;129;01min\u001B[39;00m event_names]\n\u001B[1;32m     25\u001B[0m \u001B[38;5;28;01mtry\u001B[39;00m:\n\u001B[0;32m---> 26\u001B[0m     \u001B[43mfigure\u001B[49m\u001B[38;5;241;43m.\u001B[39;49m\u001B[43mcanvas\u001B[49m\u001B[38;5;241;43m.\u001B[39;49m\u001B[43mstart_event_loop\u001B[49m\u001B[43m(\u001B[49m\u001B[43mtimeout\u001B[49m\u001B[43m)\u001B[49m  \u001B[38;5;66;03m# Start event loop.\u001B[39;00m\n\u001B[1;32m     27\u001B[0m \u001B[38;5;28;01mfinally\u001B[39;00m:  \u001B[38;5;66;03m# Run even on exception like ctrl-c.\u001B[39;00m\n\u001B[1;32m     28\u001B[0m     \u001B[38;5;66;03m# Disconnect the callbacks.\u001B[39;00m\n\u001B[1;32m     29\u001B[0m     \u001B[38;5;28;01mfor\u001B[39;00m cid \u001B[38;5;129;01min\u001B[39;00m cids:\n",
      "File \u001B[0;32m~/PycharmProjects/all matplotlib functions/venv/lib/python3.8/site-packages/matplotlib/backend_bases.py:2517\u001B[0m, in \u001B[0;36mFigureCanvasBase.start_event_loop\u001B[0;34m(self, timeout)\u001B[0m\n\u001B[1;32m   2515\u001B[0m \u001B[38;5;28;01mwhile\u001B[39;00m \u001B[38;5;28mself\u001B[39m\u001B[38;5;241m.\u001B[39m_looping \u001B[38;5;129;01mand\u001B[39;00m counter \u001B[38;5;241m*\u001B[39m timestep \u001B[38;5;241m<\u001B[39m timeout:\n\u001B[1;32m   2516\u001B[0m     \u001B[38;5;28mself\u001B[39m\u001B[38;5;241m.\u001B[39mflush_events()\n\u001B[0;32m-> 2517\u001B[0m     \u001B[43mtime\u001B[49m\u001B[38;5;241;43m.\u001B[39;49m\u001B[43msleep\u001B[49m\u001B[43m(\u001B[49m\u001B[43mtimestep\u001B[49m\u001B[43m)\u001B[49m\n\u001B[1;32m   2518\u001B[0m     counter \u001B[38;5;241m+\u001B[39m\u001B[38;5;241m=\u001B[39m \u001B[38;5;241m1\u001B[39m\n",
      "\u001B[0;31mKeyboardInterrupt\u001B[0m: "
     ]
    },
    {
     "data": {
      "text/plain": "<Figure size 640x480 with 0 Axes>"
     },
     "metadata": {},
     "output_type": "display_data"
    }
   ],
   "source": [
    "plt.waitforbuttonpress()"
   ],
   "metadata": {
    "collapsed": false
   }
  }
 ],
 "metadata": {
  "kernelspec": {
   "display_name": "Python 3",
   "language": "python",
   "name": "python3"
  },
  "language_info": {
   "codemirror_mode": {
    "name": "ipython",
    "version": 2
   },
   "file_extension": ".py",
   "mimetype": "text/x-python",
   "name": "python",
   "nbconvert_exporter": "python",
   "pygments_lexer": "ipython2",
   "version": "2.7.6"
  }
 },
 "nbformat": 4,
 "nbformat_minor": 0
}
