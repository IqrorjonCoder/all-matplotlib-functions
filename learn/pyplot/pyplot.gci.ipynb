{
 "cells": [
  {
   "cell_type": "code",
   "execution_count": 1,
   "metadata": {
    "collapsed": true
   },
   "outputs": [
    {
     "name": "stdout",
     "output_type": "stream",
     "text": [
      "\n",
      "        Get the current colorable artist.\n",
      "\n",
      "        Specifically, returns the current `.ScalarMappable` instance (`.Image`\n",
      "        created by `imshow` or `figimage`, `.Collection` created by `pcolor` or\n",
      "        `scatter`, etc.), or *None* if no such instance has been defined.\n",
      "\n",
      "        The current image is an attribute of the current Axes, or the nearest\n",
      "        earlier Axes in the current figure that contains an image.\n",
      "\n",
      "        Notes\n",
      "        -----\n",
      "        Historically, the only colorable artists were images; hence the name\n",
      "        ``gci`` (get current image).\n",
      "        \n"
     ]
    }
   ],
   "source": [
    "from matplotlib import pyplot as plt\n",
    "\n",
    "print(plt.gci.__doc__)"
   ]
  },
  {
   "cell_type": "code",
   "execution_count": 2,
   "outputs": [
    {
     "data": {
      "text/plain": "<Figure size 640x480 with 1 Axes>",
      "image/png": "[encoded data removed]"
     },
     "metadata": {},
     "output_type": "display_data"
    }
   ],
   "source": [
    "im = plt.imread(\"/home/iqrorjoon/PycharmProjects/all matplotlib functions/base/simple_image.jpg\")\n",
    "x = plt.imshow(im)\n",
    "plt.gci().set_visible(False)\n",
    "plt.show()"
   ],
   "metadata": {
    "collapsed": false
   }
  }
 ],
 "metadata": {
  "kernelspec": {
   "display_name": "Python 3",
   "language": "python",
   "name": "python3"
  },
  "language_info": {
   "codemirror_mode": {
    "name": "ipython",
    "version": 2
   },
   "file_extension": ".py",
   "mimetype": "text/x-python",
   "name": "python",
   "nbconvert_exporter": "python",
   "pygments_lexer": "ipython2",
   "version": "2.7.6"
  }
 },
 "nbformat": 4,
 "nbformat_minor": 0
}
