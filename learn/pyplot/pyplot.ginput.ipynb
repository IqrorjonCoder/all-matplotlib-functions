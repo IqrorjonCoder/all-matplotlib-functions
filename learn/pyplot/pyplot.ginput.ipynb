{
 "cells": [
  {
   "cell_type": "code",
   "execution_count": 1,
   "metadata": {
    "collapsed": true
   },
   "outputs": [
    {
     "name": "stdout",
     "output_type": "stream",
     "text": [
      "\n",
      "        Blocking call to interact with a figure.\n",
      "\n",
      "        Wait until the user clicks *n* times on the figure, and return the\n",
      "        coordinates of each click in a list.\n",
      "\n",
      "        There are three possible interactions:\n",
      "\n",
      "        - Add a point.\n",
      "        - Remove the most recently added point.\n",
      "        - Stop the interaction and return the points added so far.\n",
      "\n",
      "        The actions are assigned to mouse buttons via the arguments\n",
      "        *mouse_add*, *mouse_pop* and *mouse_stop*.\n",
      "\n",
      "        Parameters\n",
      "        ----------\n",
      "        n : int, default: 1\n",
      "            Number of mouse clicks to accumulate. If negative, accumulate\n",
      "            clicks until the input is terminated manually.\n",
      "        timeout : float, default: 30 seconds\n",
      "            Number of seconds to wait before timing out. If zero or negative\n",
      "            will never timeout.\n",
      "        show_clicks : bool, default: True\n",
      "            If True, show a red cross at the location of each click.\n",
      "        mouse_add : `.MouseButton` or None, default: `.MouseButton.LEFT`\n",
      "            Mouse button used to add points.\n",
      "        mouse_pop : `.MouseButton` or None, default: `.MouseButton.RIGHT`\n",
      "            Mouse button used to remove the most recently added point.\n",
      "        mouse_stop : `.MouseButton` or None, default: `.MouseButton.MIDDLE`\n",
      "            Mouse button used to stop input.\n",
      "\n",
      "        Returns\n",
      "        -------\n",
      "        list of tuples\n",
      "            A list of the clicked (x, y) coordinates.\n",
      "\n",
      "        Notes\n",
      "        -----\n",
      "        The keyboard can also be used to select points in case your mouse\n",
      "        does not have one or more of the buttons.  The delete and backspace\n",
      "        keys act like right clicking (i.e., remove last point), the enter key\n",
      "        terminates input and any other key (not already used by the window\n",
      "        manager) selects a point.\n",
      "        \n"
     ]
    }
   ],
   "source": [
    "from matplotlib import pyplot as plt\n",
    "\n",
    "print(plt.ginput.__doc__)"
   ]
  },
  {
   "cell_type": "code",
   "execution_count": 2,
   "outputs": [
    {
     "name": "stderr",
     "output_type": "stream",
     "text": [
      "/tmp/ipykernel_2176/2108373859.py:1: UserWarning: Matplotlib is currently using module://matplotlib_inline.backend_inline, which is a non-GUI backend, so cannot show the figure.\n",
      "  plt.ginput()\n"
     ]
    },
    {
     "data": {
      "text/plain": "[]"
     },
     "execution_count": 2,
     "metadata": {},
     "output_type": "execute_result"
    },
    {
     "data": {
      "text/plain": "<Figure size 640x480 with 0 Axes>"
     },
     "metadata": {},
     "output_type": "display_data"
    }
   ],
   "source": [
    "plt.ginput()"
   ],
   "metadata": {
    "collapsed": false
   }
  }
 ],
 "metadata": {
  "kernelspec": {
   "display_name": "Python 3",
   "language": "python",
   "name": "python3"
  },
  "language_info": {
   "codemirror_mode": {
    "name": "ipython",
    "version": 2
   },
   "file_extension": ".py",
   "mimetype": "text/x-python",
   "name": "python",
   "nbconvert_exporter": "python",
   "pygments_lexer": "ipython2",
   "version": "2.7.6"
  }
 },
 "nbformat": 4,
 "nbformat_minor": 0
}
