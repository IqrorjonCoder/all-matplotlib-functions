{
 "cells": [
  {
   "cell_type": "code",
   "execution_count": 1,
   "metadata": {
    "collapsed": true
   },
   "outputs": [
    {
     "name": "stdout",
     "output_type": "stream",
     "text": [
      "Plot the magnitude spectrum.\n",
      "\n",
      "Compute the magnitude spectrum of *x*.  Data is padded to a\n",
      "length of *pad_to* and the windowing function *window* is applied to\n",
      "the signal.\n",
      "\n",
      "Parameters\n",
      "----------\n",
      "x : 1-D array or sequence\n",
      "    Array or sequence containing the data.\n",
      "\n",
      "Fs : float, default: 2\n",
      "    The sampling frequency (samples per time unit).  It is used to calculate\n",
      "    the Fourier frequencies, *freqs*, in cycles per time unit.\n",
      "\n",
      "window : callable or ndarray, default: `.window_hanning`\n",
      "    A function or a vector of length *NFFT*.  To create window vectors see\n",
      "    `.window_hanning`, `.window_none`, `numpy.blackman`, `numpy.hamming`,\n",
      "    `numpy.bartlett`, `scipy.signal`, `scipy.signal.get_window`, etc.  If a\n",
      "    function is passed as the argument, it must take a data segment as an\n",
      "    argument and return the windowed version of the segment.\n",
      "\n",
      "sides : {'default', 'onesided', 'twosided'}, optional\n",
      "    Which sides of the spectrum to return. 'default' is one-sided for real\n",
      "    data and two-sided for complex data. 'onesided' forces the return of a\n",
      "    one-sided spectrum, while 'twosided' forces two-sided.\n",
      "\n",
      "pad_to : int, optional\n",
      "    The number of points to which the data segment is padded when performing\n",
      "    the FFT.  While not increasing the actual resolution of the spectrum (the\n",
      "    minimum distance between resolvable peaks), this can give more points in\n",
      "    the plot, allowing for more detail. This corresponds to the *n* parameter\n",
      "    in the call to `~numpy.fft.fft`.  The default is None, which sets *pad_to*\n",
      "    equal to the length of the input signal (i.e. no padding).\n",
      "\n",
      "scale : {'default', 'linear', 'dB'}\n",
      "    The scaling of the values in the *spec*.  'linear' is no scaling.\n",
      "    'dB' returns the values in dB scale, i.e., the dB amplitude\n",
      "    (20 * log10). 'default' is 'linear'.\n",
      "\n",
      "Fc : int, default: 0\n",
      "    The center frequency of *x*, which offsets the x extents of the\n",
      "    plot to reflect the frequency range used when a signal is acquired\n",
      "    and then filtered and downsampled to baseband.\n",
      "\n",
      "Returns\n",
      "-------\n",
      "spectrum : 1-D array\n",
      "    The values for the magnitude spectrum before scaling (real valued).\n",
      "\n",
      "freqs : 1-D array\n",
      "    The frequencies corresponding to the elements in *spectrum*.\n",
      "\n",
      "line : `~matplotlib.lines.Line2D`\n",
      "    The line created by this function.\n",
      "\n",
      "Other Parameters\n",
      "----------------\n",
      "data : indexable object, optional\n",
      "    If given, the following parameters also accept a string ``s``, which is\n",
      "    interpreted as ``data[s]`` (unless this raises an exception):\n",
      "\n",
      "    *x*\n",
      "\n",
      "**kwargs\n",
      "    Keyword arguments control the `.Line2D` properties:\n",
      "\n",
      "    Properties:\n",
      "    agg_filter: a filter function, which takes a (m, n, 3) float array and a dpi value, and returns a (m, n, 3) array and two offsets from the bottom left corner of the image\n",
      "    alpha: scalar or None\n",
      "    animated: bool\n",
      "    antialiased or aa: bool\n",
      "    clip_box: `.Bbox`\n",
      "    clip_on: bool\n",
      "    clip_path: Patch or (Path, Transform) or None\n",
      "    color or c: color\n",
      "    dash_capstyle: `.CapStyle` or {'butt', 'projecting', 'round'}\n",
      "    dash_joinstyle: `.JoinStyle` or {'miter', 'round', 'bevel'}\n",
      "    dashes: sequence of floats (on/off ink in points) or (None, None)\n",
      "    data: (2, N) array or two 1D arrays\n",
      "    drawstyle or ds: {'default', 'steps', 'steps-pre', 'steps-mid', 'steps-post'}, default: 'default'\n",
      "    figure: `.Figure`\n",
      "    fillstyle: {'full', 'left', 'right', 'bottom', 'top', 'none'}\n",
      "    gapcolor: color or None\n",
      "    gid: str\n",
      "    in_layout: bool\n",
      "    label: object\n",
      "    linestyle or ls: {'-', '--', '-.', ':', '', (offset, on-off-seq), ...}\n",
      "    linewidth or lw: float\n",
      "    marker: marker style string, `~.path.Path` or `~.markers.MarkerStyle`\n",
      "    markeredgecolor or mec: color\n",
      "    markeredgewidth or mew: float\n",
      "    markerfacecolor or mfc: color\n",
      "    markerfacecoloralt or mfcalt: color\n",
      "    markersize or ms: float\n",
      "    markevery: None or int or (int, int) or slice or list[int] or float or (float, float) or list[bool]\n",
      "    mouseover: bool\n",
      "    path_effects: `.AbstractPathEffect`\n",
      "    picker: float or callable[[Artist, Event], tuple[bool, dict]]\n",
      "    pickradius: unknown\n",
      "    rasterized: bool\n",
      "    sketch_params: (scale: float, length: float, randomness: float)\n",
      "    snap: bool or None\n",
      "    solid_capstyle: `.CapStyle` or {'butt', 'projecting', 'round'}\n",
      "    solid_joinstyle: `.JoinStyle` or {'miter', 'round', 'bevel'}\n",
      "    transform: unknown\n",
      "    url: str\n",
      "    visible: bool\n",
      "    xdata: 1D array\n",
      "    ydata: 1D array\n",
      "    zorder: float\n",
      "\n",
      "See Also\n",
      "--------\n",
      "psd\n",
      "    Plots the power spectral density.\n",
      "angle_spectrum\n",
      "    Plots the angles of the corresponding frequencies.\n",
      "phase_spectrum\n",
      "    Plots the phase (unwrapped angle) of the corresponding frequencies.\n",
      "specgram\n",
      "    Can plot the magnitude spectrum of segments within the signal in a\n",
      "    colormap.\n"
     ]
    }
   ],
   "source": [
    "from matplotlib import pyplot as plt\n",
    "\n",
    "print(plt.magnitude_spectrum.__doc__)"
   ]
  },
  {
   "cell_type": "code",
   "execution_count": 7,
   "outputs": [
    {
     "data": {
      "text/plain": "(array([4.25      , 3.46058073, 2.03700296]),\n array([0. , 0.4, 0.8]),\n <matplotlib.lines.Line2D at 0x7fd69b16c190>)"
     },
     "execution_count": 7,
     "metadata": {},
     "output_type": "execute_result"
    },
    {
     "data": {
      "text/plain": "<Figure size 640x480 with 1 Axes>",
      "image/png": "[encoded data removed]"
     },
     "metadata": {},
     "output_type": "display_data"
    }
   ],
   "source": [
    "plt.magnitude_spectrum([2,4,6,1,1])"
   ],
   "metadata": {
    "collapsed": false
   }
  }
 ],
 "metadata": {
  "kernelspec": {
   "display_name": "Python 3",
   "language": "python",
   "name": "python3"
  },
  "language_info": {
   "codemirror_mode": {
    "name": "ipython",
    "version": 2
   },
   "file_extension": ".py",
   "mimetype": "text/x-python",
   "name": "python",
   "nbconvert_exporter": "python",
   "pygments_lexer": "ipython2",
   "version": "2.7.6"
  }
 },
 "nbformat": 4,
 "nbformat_minor": 0
}
