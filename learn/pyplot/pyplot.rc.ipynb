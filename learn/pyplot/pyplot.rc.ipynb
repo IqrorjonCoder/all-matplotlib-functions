{
 "cells": [
  {
   "cell_type": "code",
   "execution_count": 1,
   "metadata": {
    "collapsed": true
   },
   "outputs": [
    {
     "name": "stdout",
     "output_type": "stream",
     "text": [
      "\n",
      "    Set the current `.rcParams`.  *group* is the grouping for the rc, e.g.,\n",
      "    for ``lines.linewidth`` the group is ``lines``, for\n",
      "    ``axes.facecolor``, the group is ``axes``, and so on.  Group may\n",
      "    also be a list or tuple of group names, e.g., (*xtick*, *ytick*).\n",
      "    *kwargs* is a dictionary attribute name/value pairs, e.g.,::\n",
      "\n",
      "      rc('lines', linewidth=2, color='r')\n",
      "\n",
      "    sets the current `.rcParams` and is equivalent to::\n",
      "\n",
      "      rcParams['lines.linewidth'] = 2\n",
      "      rcParams['lines.color'] = 'r'\n",
      "\n",
      "    The following aliases are available to save typing for interactive users:\n",
      "\n",
      "    =====   =================\n",
      "    Alias   Property\n",
      "    =====   =================\n",
      "    'lw'    'linewidth'\n",
      "    'ls'    'linestyle'\n",
      "    'c'     'color'\n",
      "    'fc'    'facecolor'\n",
      "    'ec'    'edgecolor'\n",
      "    'mew'   'markeredgewidth'\n",
      "    'aa'    'antialiased'\n",
      "    =====   =================\n",
      "\n",
      "    Thus you could abbreviate the above call as::\n",
      "\n",
      "          rc('lines', lw=2, c='r')\n",
      "\n",
      "    Note you can use python's kwargs dictionary facility to store\n",
      "    dictionaries of default parameters.  e.g., you can customize the\n",
      "    font rc as follows::\n",
      "\n",
      "      font = {'family' : 'monospace',\n",
      "              'weight' : 'bold',\n",
      "              'size'   : 'larger'}\n",
      "      rc('font', **font)  # pass in the font dict as kwargs\n",
      "\n",
      "    This enables you to easily switch between several configurations.  Use\n",
      "    ``matplotlib.style.use('default')`` or :func:`~matplotlib.rcdefaults` to\n",
      "    restore the default `.rcParams` after changes.\n",
      "\n",
      "    Notes\n",
      "    -----\n",
      "    Similar functionality is available by using the normal dict interface, i.e.\n",
      "    ``rcParams.update({\"lines.linewidth\": 2, ...})`` (but ``rcParams.update``\n",
      "    does not support abbreviations or grouping).\n",
      "    \n"
     ]
    }
   ],
   "source": [
    "from matplotlib import pyplot as plt\n",
    "\n",
    "print(plt.rc.__doc__)"
   ]
  },
  {
   "cell_type": "code",
   "execution_count": 36,
   "outputs": [
    {
     "data": {
      "text/plain": "<Figure size 640x480 with 1 Axes>",
      "image/png": "[encoded data removed]"
     },
     "metadata": {},
     "output_type": "display_data"
    }
   ],
   "source": [
    "plt.axline((0,0.2),\n",
    "           (1,0.2))\n",
    "\n",
    "plt.rc('lines', color='b', linestyle=':')\n",
    "\n",
    "plt.show()"
   ],
   "metadata": {
    "collapsed": false
   }
  }
 ],
 "metadata": {
  "kernelspec": {
   "display_name": "Python 3",
   "language": "python",
   "name": "python3"
  },
  "language_info": {
   "codemirror_mode": {
    "name": "ipython",
    "version": 2
   },
   "file_extension": ".py",
   "mimetype": "text/x-python",
   "name": "python",
   "nbconvert_exporter": "python",
   "pygments_lexer": "ipython2",
   "version": "2.7.6"
  }
 },
 "nbformat": 4,
 "nbformat_minor": 0
}
