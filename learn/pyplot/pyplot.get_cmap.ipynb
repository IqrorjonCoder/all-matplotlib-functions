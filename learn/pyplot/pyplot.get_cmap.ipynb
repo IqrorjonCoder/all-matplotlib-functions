{
 "cells": [
  {
   "cell_type": "code",
   "execution_count": 1,
   "metadata": {
    "collapsed": true
   },
   "outputs": [
    {
     "name": "stdout",
     "output_type": "stream",
     "text": [
      "\n",
      "    Get a colormap instance, defaulting to rc values if *name* is None.\n",
      "\n",
      "    Parameters\n",
      "    ----------\n",
      "    name : `matplotlib.colors.Colormap` or str or None, default: None\n",
      "        If a `.Colormap` instance, it will be returned. Otherwise, the name of\n",
      "        a colormap known to Matplotlib, which will be resampled by *lut*. The\n",
      "        default, None, means :rc:`image.cmap`.\n",
      "    lut : int or None, default: None\n",
      "        If *name* is not already a Colormap instance and *lut* is not None, the\n",
      "        colormap will be resampled to have *lut* entries in the lookup table.\n",
      "\n",
      "    Returns\n",
      "    -------\n",
      "    Colormap\n",
      "    \n"
     ]
    }
   ],
   "source": [
    "from matplotlib import pyplot as plt\n",
    "\n",
    "print(plt.get_cmap.__doc__)"
   ]
  },
  {
   "cell_type": "code",
   "execution_count": 6,
   "outputs": [
    {
     "data": {
      "text/plain": "<matplotlib.colors.LinearSegmentedColormap at 0x7f85ae3011c0>",
      "text/html": "<div style=\"vertical-align: middle;\"><strong>Blues_r</strong> </div><div class=\"cmap\"><img alt=\"Blues_r colormap\" title=\"Blues_r\" style=\"border: 1px solid #555;\" src=\"data:image/png;base64,iVBORw0KGgoAAAANSUhEUgAAAgAAAABACAYAAABsv8+/AAAAFnRFWHRUaXRsZQBCbHVlc19yIGNvbG9ybWFwEglszQAAABx0RVh0RGVzY3JpcHRpb24AQmx1ZXNfciBjb2xvcm1hcLUn3bQAAAAwdEVYdEF1dGhvcgBNYXRwbG90bGliIHYzLjYuMiwgaHR0cHM6Ly9tYXRwbG90bGliLm9yZ3HOVV8AAAAydEVYdFNvZnR3YXJlAE1hdHBsb3RsaWIgdjMuNi4yLCBodHRwczovL21hdHBsb3RsaWIub3JnX2jKeAAAAcZJREFUeJzt1jFywjAAAEHZVZ6Tf+X/dVJkIIOIMAkMze02Hlu2JGOK297ePz7HGGNs2/g+7uM15y9eZz+673R5u3k8uu9Z87x+vXn80fPnzrvvr1l3P52Pg/Hp+X2ebxyMH8x3Hh93rrcaH3/b/zzvfn6Py+d/7vt93n2x/+V9i+vzPq6uL/Zxdf1qH6v3XHy/6XeY71v+b+Z9z99z3P5eV+Or77p4bj2+et9xoTq+jcsL/x3fpgWPfv/x4Pjd7zf9rwGAEAEAAEECAACCBAAABAkAAAgSAAAQJAAAIEgAAECQAACAIAEAAEECAACCBAAABAkAAAgSAAAQJAAAIEgAAECQAACAIAEAAEECAACCBAAABAkAAAgSAAAQJAAAIEgAAECQAACAIAEAAEECAACCBAAABAkAAAgSAAAQJAAAIEgAAECQAACAIAEAAEECAACCBAAABAkAAAgSAAAQJAAAIEgAAECQAACAIAEAAEECAACCBAAABAkAAAgSAAAQJAAAIEgAAECQAACAIAEAAEECAACCBAAABAkAAAgSAAAQJAAAIEgAAECQAACAIAEAAEECAACCBAAABAkAAAgSAAAQJAAAIOgLE48EcKnNmOMAAAAASUVORK5CYII=\"></div><div style=\"vertical-align: middle; max-width: 514px; display: flex; justify-content: space-between;\"><div style=\"float: left;\"><div title=\"#08306bff\" style=\"display: inline-block; width: 1em; height: 1em; margin: 0; vertical-align: middle; border: 1px solid #555; background-color: #08306bff;\"></div> under</div><div style=\"margin: 0 auto; display: inline-block;\">bad <div title=\"#00000000\" style=\"display: inline-block; width: 1em; height: 1em; margin: 0; vertical-align: middle; border: 1px solid #555; background-color: #00000000;\"></div></div><div style=\"float: right;\">over <div title=\"#f7fbffff\" style=\"display: inline-block; width: 1em; height: 1em; margin: 0; vertical-align: middle; border: 1px solid #555; background-color: #f7fbffff;\"></div></div>",
      "image/png": "[encoded data removed]"
     },
     "execution_count": 6,
     "metadata": {},
     "output_type": "execute_result"
    }
   ],
   "source": [
    "plt.get_cmap('Blues_r')"
   ],
   "metadata": {
    "collapsed": false
   }
  }
 ],
 "metadata": {
  "kernelspec": {
   "display_name": "Python 3",
   "language": "python",
   "name": "python3"
  },
  "language_info": {
   "codemirror_mode": {
    "name": "ipython",
    "version": 2
   },
   "file_extension": ".py",
   "mimetype": "text/x-python",
   "name": "python",
   "nbconvert_exporter": "python",
   "pygments_lexer": "ipython2",
   "version": "2.7.6"
  }
 },
 "nbformat": 4,
 "nbformat_minor": 0
}
