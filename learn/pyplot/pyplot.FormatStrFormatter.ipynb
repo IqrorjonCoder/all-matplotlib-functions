{
 "cells": [
  {
   "cell_type": "code",
   "execution_count": 1,
   "metadata": {
    "collapsed": true
   },
   "outputs": [
    {
     "name": "stdout",
     "output_type": "stream",
     "text": [
      "\n",
      "    Use an old-style ('%' operator) format string to format the tick.\n",
      "\n",
      "    The format string should have a single variable format (%) in it.\n",
      "    It will be applied to the value (not the position) of the tick.\n",
      "\n",
      "    Negative numeric values will use a dash, not a Unicode minus; use mathtext\n",
      "    to get a Unicode minus by wrapping the format specifier with $ (e.g.\n",
      "    \"$%g$\").\n",
      "    \n"
     ]
    }
   ],
   "source": [
    "from matplotlib import pyplot as plt\n",
    "\n",
    "print(plt.FormatStrFormatter.__doc__)"
   ]
  },
  {
   "cell_type": "code",
   "execution_count": 17,
   "outputs": [
    {
     "data": {
      "text/plain": "'hello @iqrorjoncoder!'"
     },
     "execution_count": 17,
     "metadata": {},
     "output_type": "execute_result"
    }
   ],
   "source": [
    "plt.FormatStrFormatter(\"%s @iqrorjoncoder!\").format_data('hello')"
   ],
   "metadata": {
    "collapsed": false
   }
  }
 ],
 "metadata": {
  "kernelspec": {
   "display_name": "Python 3",
   "language": "python",
   "name": "python3"
  },
  "language_info": {
   "codemirror_mode": {
    "name": "ipython",
    "version": 2
   },
   "file_extension": ".py",
   "mimetype": "text/x-python",
   "name": "python",
   "nbconvert_exporter": "python",
   "pygments_lexer": "ipython2",
   "version": "2.7.6"
  }
 },
 "nbformat": 4,
 "nbformat_minor": 0
}
