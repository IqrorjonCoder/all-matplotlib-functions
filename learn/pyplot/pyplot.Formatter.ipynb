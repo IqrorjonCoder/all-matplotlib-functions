{
 "cells": [
  {
   "cell_type": "code",
   "execution_count": 1,
   "metadata": {
    "collapsed": true
   },
   "outputs": [
    {
     "name": "stdout",
     "output_type": "stream",
     "text": [
      "\n",
      "    Create a string based on a tick value and location.\n",
      "    \n"
     ]
    }
   ],
   "source": [
    "from matplotlib import pyplot as plt\n",
    "\n",
    "print(plt.Formatter.__doc__)"
   ]
  },
  {
   "cell_type": "code",
   "execution_count": 4,
   "outputs": [
    {
     "name": "stdout",
     "output_type": "stream",
     "text": [
      "Help on Formatter in module matplotlib.ticker object:\n",
      "\n",
      "class Formatter(TickHelper)\n",
      " |  Create a string based on a tick value and location.\n",
      " |  \n",
      " |  Method resolution order:\n",
      " |      Formatter\n",
      " |      TickHelper\n",
      " |      builtins.object\n",
      " |  \n",
      " |  Methods defined here:\n",
      " |  \n",
      " |  __call__(self, x, pos=None)\n",
      " |      Return the format for tick value *x* at position pos.\n",
      " |      ``pos=None`` indicates an unspecified location.\n",
      " |  \n",
      " |  format_data(self, value)\n",
      " |      Return the full string representation of the value with the\n",
      " |      position unspecified.\n",
      " |  \n",
      " |  format_data_short(self, value)\n",
      " |      Return a short string version of the tick value.\n",
      " |      \n",
      " |      Defaults to the position-independent long value.\n",
      " |  \n",
      " |  format_ticks(self, values)\n",
      " |      Return the tick labels for all the ticks at once.\n",
      " |  \n",
      " |  get_offset(self)\n",
      " |  \n",
      " |  set_locs(self, locs)\n",
      " |      Set the locations of the ticks.\n",
      " |      \n",
      " |      This method is called before computing the tick labels because some\n",
      " |      formatters need to know all tick locations to do so.\n",
      " |  \n",
      " |  ----------------------------------------------------------------------\n",
      " |  Static methods defined here:\n",
      " |  \n",
      " |  fix_minus(s)\n",
      " |      Some classes may want to replace a hyphen for minus with the proper\n",
      " |      Unicode symbol (U+2212) for typographical correctness.  This is a\n",
      " |      helper method to perform such a replacement when it is enabled via\n",
      " |      :rc:`axes.unicode_minus`.\n",
      " |  \n",
      " |  ----------------------------------------------------------------------\n",
      " |  Data and other attributes defined here:\n",
      " |  \n",
      " |  locs = []\n",
      " |  \n",
      " |  ----------------------------------------------------------------------\n",
      " |  Methods inherited from TickHelper:\n",
      " |  \n",
      " |  create_dummy_axis(self, **kwargs)\n",
      " |  \n",
      " |  set_axis(self, axis)\n",
      " |  \n",
      " |  set_bounds(self, vmin, vmax)\n",
      " |      [*Deprecated*] \n",
      " |      \n",
      " |      Notes\n",
      " |      -----\n",
      " |      .. deprecated:: 3.5\n",
      " |         Use `.Axis.set_view_interval` and `.Axis.set_data_interval` instead.\\\n",
      " |  \n",
      " |  set_data_interval(self, vmin, vmax)\n",
      " |      [*Deprecated*] \n",
      " |      \n",
      " |      Notes\n",
      " |      -----\n",
      " |      .. deprecated:: 3.5\n",
      " |         Use `.Axis.set_data_interval` instead.\\\n",
      " |  \n",
      " |  set_view_interval(self, vmin, vmax)\n",
      " |      [*Deprecated*] \n",
      " |      \n",
      " |      Notes\n",
      " |      -----\n",
      " |      .. deprecated:: 3.5\n",
      " |         Use `.Axis.set_view_interval` instead.\\\n",
      " |  \n",
      " |  ----------------------------------------------------------------------\n",
      " |  Data descriptors inherited from TickHelper:\n",
      " |  \n",
      " |  __dict__\n",
      " |      dictionary for instance variables (if defined)\n",
      " |  \n",
      " |  __weakref__\n",
      " |      list of weak references to the object (if defined)\n",
      " |  \n",
      " |  ----------------------------------------------------------------------\n",
      " |  Data and other attributes inherited from TickHelper:\n",
      " |  \n",
      " |  axis = None\n",
      "\n"
     ]
    }
   ],
   "source": [
    "help(plt.Formatter())"
   ],
   "metadata": {
    "collapsed": false
   }
  }
 ],
 "metadata": {
  "kernelspec": {
   "display_name": "Python 3",
   "language": "python",
   "name": "python3"
  },
  "language_info": {
   "codemirror_mode": {
    "name": "ipython",
    "version": 2
   },
   "file_extension": ".py",
   "mimetype": "text/x-python",
   "name": "python",
   "nbconvert_exporter": "python",
   "pygments_lexer": "ipython2",
   "version": "2.7.6"
  }
 },
 "nbformat": 4,
 "nbformat_minor": 0
}
