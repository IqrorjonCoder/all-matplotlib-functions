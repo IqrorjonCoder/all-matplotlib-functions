{
 "cells": [
  {
   "cell_type": "code",
   "execution_count": 1,
   "metadata": {
    "collapsed": true
   },
   "outputs": [
    {
     "name": "stdout",
     "output_type": "stream",
     "text": [
      "\n",
      "    Base class for formatting ticks on a log or symlog scale.\n",
      "\n",
      "    It may be instantiated directly, or subclassed.\n",
      "\n",
      "    Parameters\n",
      "    ----------\n",
      "    base : float, default: 10.\n",
      "        Base of the logarithm used in all calculations.\n",
      "\n",
      "    labelOnlyBase : bool, default: False\n",
      "        If True, label ticks only at integer powers of base.\n",
      "        This is normally True for major ticks and False for\n",
      "        minor ticks.\n",
      "\n",
      "    minor_thresholds : (subset, all), default: (1, 0.4)\n",
      "        If labelOnlyBase is False, these two numbers control\n",
      "        the labeling of ticks that are not at integer powers of\n",
      "        base; normally these are the minor ticks. The controlling\n",
      "        parameter is the log of the axis data range.  In the typical\n",
      "        case where base is 10 it is the number of decades spanned\n",
      "        by the axis, so we can call it 'numdec'. If ``numdec <= all``,\n",
      "        all minor ticks will be labeled.  If ``all < numdec <= subset``,\n",
      "        then only a subset of minor ticks will be labeled, so as to\n",
      "        avoid crowding. If ``numdec > subset`` then no minor ticks will\n",
      "        be labeled.\n",
      "\n",
      "    linthresh : None or float, default: None\n",
      "        If a symmetric log scale is in use, its ``linthresh``\n",
      "        parameter must be supplied here.\n",
      "\n",
      "    Notes\n",
      "    -----\n",
      "    The `set_locs` method must be called to enable the subsetting\n",
      "    logic controlled by the ``minor_thresholds`` parameter.\n",
      "\n",
      "    In some cases such as the colorbar, there is no distinction between\n",
      "    major and minor ticks; the tick locations might be set manually,\n",
      "    or by a locator that puts ticks at integer powers of base and\n",
      "    at intermediate locations.  For this situation, disable the\n",
      "    minor_thresholds logic by using ``minor_thresholds=(np.inf, np.inf)``,\n",
      "    so that all ticks will be labeled.\n",
      "\n",
      "    To disable labeling of minor ticks when 'labelOnlyBase' is False,\n",
      "    use ``minor_thresholds=(0, 0)``.  This is the default for the\n",
      "    \"classic\" style.\n",
      "\n",
      "    Examples\n",
      "    --------\n",
      "    To label a subset of minor ticks when the view limits span up\n",
      "    to 2 decades, and all of the ticks when zoomed in to 0.5 decades\n",
      "    or less, use ``minor_thresholds=(2, 0.5)``.\n",
      "\n",
      "    To label all minor ticks when the view limits span up to 1.5\n",
      "    decades, use ``minor_thresholds=(1.5, 1.5)``.\n",
      "    \n"
     ]
    }
   ],
   "source": [
    "from matplotlib import pyplot as plt\n",
    "\n",
    "print(plt.LogFormatter.__doc__)"
   ]
  },
  {
   "cell_type": "code",
   "execution_count": 2,
   "outputs": [
    {
     "data": {
      "text/plain": "[]"
     },
     "execution_count": 2,
     "metadata": {},
     "output_type": "execute_result"
    }
   ],
   "source": [
    "plt.LogFormatter.locs"
   ],
   "metadata": {
    "collapsed": false
   }
  }
 ],
 "metadata": {
  "kernelspec": {
   "display_name": "Python 3",
   "language": "python",
   "name": "python3"
  },
  "language_info": {
   "codemirror_mode": {
    "name": "ipython",
    "version": 2
   },
   "file_extension": ".py",
   "mimetype": "text/x-python",
   "name": "python",
   "nbconvert_exporter": "python",
   "pygments_lexer": "ipython2",
   "version": "2.7.6"
  }
 },
 "nbformat": 4,
 "nbformat_minor": 0
}
