{
 "cells": [
  {
   "cell_type": "code",
   "execution_count": 1,
   "metadata": {
    "collapsed": true
   },
   "outputs": [
    {
     "name": "stdout",
     "output_type": "stream",
     "text": [
      "\n",
      "        Add a key to a quiver plot.\n",
      "\n",
      "        The positioning of the key depends on *X*, *Y*, *coordinates*, and\n",
      "        *labelpos*.  If *labelpos* is 'N' or 'S', *X*, *Y* give the position of\n",
      "        the middle of the key arrow.  If *labelpos* is 'E', *X*, *Y* positions\n",
      "        the head, and if *labelpos* is 'W', *X*, *Y* positions the tail; in\n",
      "        either of these two cases, *X*, *Y* is somewhere in the middle of the\n",
      "        arrow+label key object.\n",
      "\n",
      "        Parameters\n",
      "        ----------\n",
      "        Q : `matplotlib.quiver.Quiver`\n",
      "            A `.Quiver` object as returned by a call to `~.Axes.quiver()`.\n",
      "        X, Y : float\n",
      "            The location of the key.\n",
      "        U : float\n",
      "            The length of the key.\n",
      "        label : str\n",
      "            The key label (e.g., length and units of the key).\n",
      "        angle : float, default: 0\n",
      "            The angle of the key arrow, in degrees anti-clockwise from the\n",
      "            x-axis.\n",
      "        coordinates : {'axes', 'figure', 'data', 'inches'}, default: 'axes'\n",
      "            Coordinate system and units for *X*, *Y*: 'axes' and 'figure' are\n",
      "            normalized coordinate systems with (0, 0) in the lower left and\n",
      "            (1, 1) in the upper right; 'data' are the axes data coordinates\n",
      "            (used for the locations of the vectors in the quiver plot itself);\n",
      "            'inches' is position in the figure in inches, with (0, 0) at the\n",
      "            lower left corner.\n",
      "        color : color\n",
      "            Overrides face and edge colors from *Q*.\n",
      "        labelpos : {'N', 'S', 'E', 'W'}\n",
      "            Position the label above, below, to the right, to the left of the\n",
      "            arrow, respectively.\n",
      "        labelsep : float, default: 0.1\n",
      "            Distance in inches between the arrow and the label.\n",
      "        labelcolor : color, default: :rc:`text.color`\n",
      "            Label color.\n",
      "        fontproperties : dict, optional\n",
      "            A dictionary with keyword arguments accepted by the\n",
      "            `~matplotlib.font_manager.FontProperties` initializer:\n",
      "            *family*, *style*, *variant*, *size*, *weight*.\n",
      "        **kwargs\n",
      "            Any additional keyword arguments are used to override vector\n",
      "            properties taken from *Q*.\n",
      "        \n"
     ]
    }
   ],
   "source": [
    "from matplotlib import pyplot as plt\n",
    "\n",
    "print(plt.quiverkey.__doc__)"
   ]
  },
  {
   "cell_type": "code",
   "execution_count": 2,
   "outputs": [
    {
     "ename": "TypeError",
     "evalue": "quiverkey() missing 2 required positional arguments: 'U' and 'label'",
     "output_type": "error",
     "traceback": [
      "\u001B[0;31m---------------------------------------------------------------------------\u001B[0m",
      "\u001B[0;31mTypeError\u001B[0m                                 Traceback (most recent call last)",
      "Cell \u001B[0;32mIn[2], line 1\u001B[0m\n\u001B[0;32m----> 1\u001B[0m \u001B[43mplt\u001B[49m\u001B[38;5;241;43m.\u001B[39;49m\u001B[43mquiverkey\u001B[49m\u001B[43m(\u001B[49m\u001B[43m[\u001B[49m\u001B[38;5;241;43m1\u001B[39;49m\u001B[43m,\u001B[49m\u001B[38;5;241;43m2\u001B[39;49m\u001B[43m,\u001B[49m\u001B[38;5;241;43m3\u001B[39;49m\u001B[43m]\u001B[49m\u001B[43m,\u001B[49m\n\u001B[1;32m      2\u001B[0m \u001B[43m              \u001B[49m\u001B[43m[\u001B[49m\u001B[38;5;241;43m2\u001B[39;49m\u001B[43m,\u001B[49m\u001B[38;5;241;43m3\u001B[39;49m\u001B[43m,\u001B[49m\u001B[38;5;241;43m4\u001B[39;49m\u001B[43m]\u001B[49m\u001B[43m,\u001B[49m\n\u001B[1;32m      3\u001B[0m \u001B[43m              \u001B[49m\u001B[43m[\u001B[49m\u001B[38;5;241;43m2\u001B[39;49m\u001B[43m,\u001B[49m\u001B[38;5;241;43m3\u001B[39;49m\u001B[43m,\u001B[49m\u001B[38;5;241;43m4\u001B[39;49m\u001B[43m]\u001B[49m\u001B[43m)\u001B[49m\n",
      "\u001B[0;31mTypeError\u001B[0m: quiverkey() missing 2 required positional arguments: 'U' and 'label'"
     ]
    }
   ],
   "source": [],
   "metadata": {
    "collapsed": false
   }
  }
 ],
 "metadata": {
  "kernelspec": {
   "display_name": "Python 3",
   "language": "python",
   "name": "python3"
  },
  "language_info": {
   "codemirror_mode": {
    "name": "ipython",
    "version": 2
   },
   "file_extension": ".py",
   "mimetype": "text/x-python",
   "name": "python",
   "nbconvert_exporter": "python",
   "pygments_lexer": "ipython2",
   "version": "2.7.6"
  }
 },
 "nbformat": 4,
 "nbformat_minor": 0
}
