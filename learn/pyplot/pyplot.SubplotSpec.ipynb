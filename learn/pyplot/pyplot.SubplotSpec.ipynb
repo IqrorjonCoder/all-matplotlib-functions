{
 "cells": [
  {
   "cell_type": "code",
   "execution_count": 1,
   "metadata": {
    "collapsed": true
   },
   "outputs": [
    {
     "name": "stdout",
     "output_type": "stream",
     "text": [
      "\n",
      "    The location of a subplot in a `GridSpec`.\n",
      "\n",
      "    .. note::\n",
      "\n",
      "        Likely, you'll never instantiate a `SubplotSpec` yourself. Instead you\n",
      "        will typically obtain one from a `GridSpec` using item-access.\n",
      "\n",
      "    Parameters\n",
      "    ----------\n",
      "    gridspec : `~matplotlib.gridspec.GridSpec`\n",
      "        The GridSpec, which the subplot is referencing.\n",
      "    num1, num2 : int\n",
      "        The subplot will occupy the num1-th cell of the given\n",
      "        gridspec.  If num2 is provided, the subplot will span between\n",
      "        num1-th cell and num2-th cell *inclusive*.\n",
      "\n",
      "        The index starts from 0.\n",
      "    \n"
     ]
    }
   ],
   "source": [
    "from matplotlib import pyplot as plt\n",
    "\n",
    "print(plt.SubplotSpec.__doc__)"
   ]
  },
  {
   "cell_type": "code",
   "execution_count": 11,
   "outputs": [
    {
     "data": {
      "text/plain": "GridSpec(3, 1)[1:3, 0:1]"
     },
     "execution_count": 11,
     "metadata": {},
     "output_type": "execute_result"
    }
   ],
   "source": [
    "x = plt.GridSpec(3,1)\n",
    "plt.SubplotSpec(gridspec=x,\n",
    "                    num1=1,\n",
    "                    num2=2)"
   ],
   "metadata": {
    "collapsed": false
   }
  }
 ],
 "metadata": {
  "kernelspec": {
   "display_name": "Python 3",
   "language": "python",
   "name": "python3"
  },
  "language_info": {
   "codemirror_mode": {
    "name": "ipython",
    "version": 2
   },
   "file_extension": ".py",
   "mimetype": "text/x-python",
   "name": "python",
   "nbconvert_exporter": "python",
   "pygments_lexer": "ipython2",
   "version": "2.7.6"
  }
 },
 "nbformat": 4,
 "nbformat_minor": 0
}
