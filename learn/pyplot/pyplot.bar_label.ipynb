{
 "cells": [
  {
   "cell_type": "code",
   "execution_count": 3,
   "metadata": {
    "collapsed": true
   },
   "outputs": [
    {
     "name": "stdout",
     "output_type": "stream",
     "text": [
      "\n",
      "        Label a bar plot.\n",
      "\n",
      "        Adds labels to bars in the given `.BarContainer`.\n",
      "        You may need to adjust the axis limits to fit the labels.\n",
      "\n",
      "        Parameters\n",
      "        ----------\n",
      "        container : `.BarContainer`\n",
      "            Container with all the bars and optionally errorbars, likely\n",
      "            returned from `.bar` or `.barh`.\n",
      "\n",
      "        labels : array-like, optional\n",
      "            A list of label texts, that should be displayed. If not given, the\n",
      "            label texts will be the data values formatted with *fmt*.\n",
      "\n",
      "        fmt : str, default: '%g'\n",
      "            A format string for the label.\n",
      "\n",
      "        label_type : {'edge', 'center'}, default: 'edge'\n",
      "            The label type. Possible values:\n",
      "\n",
      "            - 'edge': label placed at the end-point of the bar segment, and the\n",
      "              value displayed will be the position of that end-point.\n",
      "            - 'center': label placed in the center of the bar segment, and the\n",
      "              value displayed will be the length of that segment.\n",
      "              (useful for stacked bars, i.e.,\n",
      "              :doc:`/gallery/lines_bars_and_markers/bar_label_demo`)\n",
      "\n",
      "        padding : float, default: 0\n",
      "            Distance of label from the end of the bar, in points.\n",
      "\n",
      "        **kwargs\n",
      "            Any remaining keyword arguments are passed through to\n",
      "            `.Axes.annotate`. The alignment parameters (\n",
      "            *horizontalalignment* / *ha*, *verticalalignment* / *va*) are\n",
      "            not supported because the labels are automatically aligned to\n",
      "            the bars.\n",
      "\n",
      "        Returns\n",
      "        -------\n",
      "        list of `.Text`\n",
      "            A list of `.Text` instances for the labels.\n",
      "        \n"
     ]
    }
   ],
   "source": [
    "from matplotlib import pyplot as plt\n",
    "\n",
    "print(plt.bar_label.__doc__)"
   ]
  },
  {
   "cell_type": "code",
   "execution_count": 25,
   "outputs": [
    {
     "data": {
      "text/plain": "<Figure size 640x480 with 1 Axes>",
      "image/png": "[encoded data removed]"
     },
     "metadata": {},
     "output_type": "display_data"
    }
   ],
   "source": [
    "x = plt.bar(x=[1,2,3],\n",
    "        height=[2,1,3])\n",
    "\n",
    "plt.bar_label(x,\n",
    "              labels=['one', 'two', 'three'],\n",
    "              label_type='center',\n",
    "              padding=10)\n",
    "\n",
    "plt.show()"
   ],
   "metadata": {
    "collapsed": false
   }
  }
 ],
 "metadata": {
  "kernelspec": {
   "display_name": "Python 3",
   "language": "python",
   "name": "python3"
  },
  "language_info": {
   "codemirror_mode": {
    "name": "ipython",
    "version": 2
   },
   "file_extension": ".py",
   "mimetype": "text/x-python",
   "name": "python",
   "nbconvert_exporter": "python",
   "pygments_lexer": "ipython2",
   "version": "2.7.6"
  }
 },
 "nbformat": 4,
 "nbformat_minor": 0
}
