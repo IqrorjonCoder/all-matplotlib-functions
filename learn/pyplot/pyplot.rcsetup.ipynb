{
 "cells": [
  {
   "cell_type": "code",
   "execution_count": 2,
   "metadata": {
    "collapsed": true
   },
   "outputs": [
    {
     "name": "stdout",
     "output_type": "stream",
     "text": [
      "\n",
      "The rcsetup module contains the validation code for customization using\n",
      "Matplotlib's rc settings.\n",
      "\n",
      "Each rc setting is assigned a function used to validate any attempted changes\n",
      "to that setting.  The validation functions are defined in the rcsetup module,\n",
      "and are used to construct the rcParams global object which stores the settings\n",
      "and is referenced throughout Matplotlib.\n",
      "\n",
      "The default values of the rc settings are set in the default matplotlibrc file.\n",
      "Any additions or deletions to the parameter set listed here should also be\n",
      "propagated to the :file:`matplotlibrc.template` in Matplotlib's root source\n",
      "directory.\n",
      "\n"
     ]
    }
   ],
   "source": [
    "from matplotlib import pyplot as plt\n",
    "\n",
    "print(plt.rcsetup.__doc__)"
   ]
  },
  {
   "cell_type": "code",
   "execution_count": 9,
   "outputs": [
    {
     "data": {
      "text/plain": "{'-': 'solid', '--': 'dashed', '-.': 'dashdot', ':': 'dotted'}"
     },
     "execution_count": 9,
     "metadata": {},
     "output_type": "execute_result"
    }
   ],
   "source": [
    "plt.rcsetup.ls_mapper"
   ],
   "metadata": {
    "collapsed": false
   }
  }
 ],
 "metadata": {
  "kernelspec": {
   "display_name": "Python 3",
   "language": "python",
   "name": "python3"
  },
  "language_info": {
   "codemirror_mode": {
    "name": "ipython",
    "version": 2
   },
   "file_extension": ".py",
   "mimetype": "text/x-python",
   "name": "python",
   "nbconvert_exporter": "python",
   "pygments_lexer": "ipython2",
   "version": "2.7.6"
  }
 },
 "nbformat": 4,
 "nbformat_minor": 0
}
