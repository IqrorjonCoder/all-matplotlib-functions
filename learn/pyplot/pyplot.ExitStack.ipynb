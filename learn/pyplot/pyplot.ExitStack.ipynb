{
 "cells": [
  {
   "cell_type": "code",
   "execution_count": 1,
   "metadata": {
    "collapsed": true
   },
   "outputs": [
    {
     "name": "stdout",
     "output_type": "stream",
     "text": [
      "Context manager for dynamic management of a stack of exit callbacks.\n",
      "\n",
      "    For example:\n",
      "        with ExitStack() as stack:\n",
      "            files = [stack.enter_context(open(fname)) for fname in filenames]\n",
      "            # All opened files will automatically be closed at the end of\n",
      "            # the with statement, even if attempts to open files later\n",
      "            # in the list raise an exception.\n",
      "    \n"
     ]
    }
   ],
   "source": [
    "from matplotlib import pyplot as plt\n",
    "\n",
    "print(plt.ExitStack.__doc__)"
   ]
  },
  {
   "cell_type": "code",
   "execution_count": 8,
   "outputs": [
    {
     "name": "stdout",
     "output_type": "stream",
     "text": [
      "<_io.TextIOWrapper name='main.py' mode='r' encoding='UTF-8'>\n"
     ]
    }
   ],
   "source": [
    "with plt.ExitStack() as stack:\n",
    "    files = [stack.enter_context(open(fname)) for fname in ['main.py']]\n",
    "    for i in files:\n",
    "        print(i)"
   ],
   "metadata": {
    "collapsed": false
   }
  }
 ],
 "metadata": {
  "kernelspec": {
   "display_name": "Python 3",
   "language": "python",
   "name": "python3"
  },
  "language_info": {
   "codemirror_mode": {
    "name": "ipython",
    "version": 2
   },
   "file_extension": ".py",
   "mimetype": "text/x-python",
   "name": "python",
   "nbconvert_exporter": "python",
   "pygments_lexer": "ipython2",
   "version": "2.7.6"
  }
 },
 "nbformat": 4,
 "nbformat_minor": 0
}
