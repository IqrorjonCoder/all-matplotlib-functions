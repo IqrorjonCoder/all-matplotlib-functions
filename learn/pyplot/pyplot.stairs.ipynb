{
 "cells": [
  {
   "cell_type": "code",
   "execution_count": 1,
   "metadata": {
    "collapsed": true
   },
   "outputs": [
    {
     "name": "stdout",
     "output_type": "stream",
     "text": [
      "A stepwise constant function as a line with bounding edges\n",
      "or a filled plot.\n",
      "\n",
      "Parameters\n",
      "----------\n",
      "values : array-like\n",
      "    The step heights.\n",
      "\n",
      "edges : array-like\n",
      "    The edge positions, with ``len(edges) == len(vals) + 1``,\n",
      "    between which the curve takes on vals values.\n",
      "\n",
      "orientation : {'vertical', 'horizontal'}, default: 'vertical'\n",
      "    The direction of the steps. Vertical means that *values* are along\n",
      "    the y-axis, and edges are along the x-axis.\n",
      "\n",
      "baseline : float, array-like or None, default: 0\n",
      "    The bottom value of the bounding edges or when\n",
      "    ``fill=True``, position of lower edge. If *fill* is\n",
      "    True or an array is passed to *baseline*, a closed\n",
      "    path is drawn.\n",
      "\n",
      "fill : bool, default: False\n",
      "    Whether the area under the step curve should be filled.\n",
      "\n",
      "Returns\n",
      "-------\n",
      "StepPatch : `matplotlib.patches.StepPatch`\n",
      "\n",
      "Other Parameters\n",
      "----------------\n",
      "data : indexable object, optional\n",
      "    If given, all parameters also accept a string ``s``, which is\n",
      "    interpreted as ``data[s]`` (unless this raises an exception).\n",
      "\n",
      "**kwargs\n",
      "    `~matplotlib.patches.StepPatch` properties\n"
     ]
    }
   ],
   "source": [
    "from matplotlib import pyplot as plt\n",
    "\n",
    "print(plt.stairs.__doc__)"
   ]
  },
  {
   "cell_type": "code",
   "execution_count": 18,
   "outputs": [
    {
     "data": {
      "text/plain": "<Figure size 640x480 with 1 Axes>",
      "image/png": "[encoded data removed]"
     },
     "metadata": {},
     "output_type": "display_data"
    }
   ],
   "source": [
    "plt.stairs([1,3,2,2,5,4,3,4,6,2,1],\n",
    "           orientation='vertical',\n",
    "           baseline=0.9,\n",
    "           fill=False)\n",
    "\n",
    "plt.show()"
   ],
   "metadata": {
    "collapsed": false
   }
  }
 ],
 "metadata": {
  "kernelspec": {
   "display_name": "Python 3",
   "language": "python",
   "name": "python3"
  },
  "language_info": {
   "codemirror_mode": {
    "name": "ipython",
    "version": 2
   },
   "file_extension": ".py",
   "mimetype": "text/x-python",
   "name": "python",
   "nbconvert_exporter": "python",
   "pygments_lexer": "ipython2",
   "version": "2.7.6"
  }
 },
 "nbformat": 4,
 "nbformat_minor": 0
}
