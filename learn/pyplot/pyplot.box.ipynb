{
 "cells": [
  {
   "cell_type": "code",
   "execution_count": 3,
   "metadata": {
    "collapsed": true
   },
   "outputs": [
    {
     "name": "stdout",
     "output_type": "stream",
     "text": [
      "\n",
      "    Turn the axes box on or off on the current axes.\n",
      "\n",
      "    Parameters\n",
      "    ----------\n",
      "    on : bool or None\n",
      "        The new `~matplotlib.axes.Axes` box state. If ``None``, toggle\n",
      "        the state.\n",
      "\n",
      "    See Also\n",
      "    --------\n",
      "    :meth:`matplotlib.axes.Axes.set_frame_on`\n",
      "    :meth:`matplotlib.axes.Axes.get_frame_on`\n",
      "    \n"
     ]
    }
   ],
   "source": [
    "from matplotlib import pyplot as plt\n",
    "\n",
    "print(plt.box.__doc__)"
   ]
  }
 ],
 "metadata": {
  "kernelspec": {
   "display_name": "Python 3",
   "language": "python",
   "name": "python3"
  },
  "language_info": {
   "codemirror_mode": {
    "name": "ipython",
    "version": 2
   },
   "file_extension": ".py",
   "mimetype": "text/x-python",
   "name": "python",
   "nbconvert_exporter": "python",
   "pygments_lexer": "ipython2",
   "version": "2.7.6"
  }
 },
 "nbformat": 4,
 "nbformat_minor": 0
}
