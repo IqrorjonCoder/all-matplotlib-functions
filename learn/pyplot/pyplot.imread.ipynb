{
 "cells": [
  {
   "cell_type": "code",
   "execution_count": 1,
   "metadata": {
    "collapsed": true
   },
   "outputs": [
    {
     "name": "stdout",
     "output_type": "stream",
     "text": [
      "\n",
      "    Read an image from a file into an array.\n",
      "\n",
      "    .. note::\n",
      "\n",
      "        This function exists for historical reasons.  It is recommended to\n",
      "        use `PIL.Image.open` instead for loading images.\n",
      "\n",
      "    Parameters\n",
      "    ----------\n",
      "    fname : str or file-like\n",
      "        The image file to read: a filename, a URL or a file-like object opened\n",
      "        in read-binary mode.\n",
      "\n",
      "        Passing a URL is deprecated.  Please open the URL\n",
      "        for reading and pass the result to Pillow, e.g. with\n",
      "        ``np.array(PIL.Image.open(urllib.request.urlopen(url)))``.\n",
      "    format : str, optional\n",
      "        The image file format assumed for reading the data.  The image is\n",
      "        loaded as a PNG file if *format* is set to \"png\", if *fname* is a path\n",
      "        or opened file with a \".png\" extension, or if it is an URL.  In all\n",
      "        other cases, *format* is ignored and the format is auto-detected by\n",
      "        `PIL.Image.open`.\n",
      "\n",
      "    Returns\n",
      "    -------\n",
      "    `numpy.array`\n",
      "        The image data. The returned array has shape\n",
      "\n",
      "        - (M, N) for grayscale images.\n",
      "        - (M, N, 3) for RGB images.\n",
      "        - (M, N, 4) for RGBA images.\n",
      "\n",
      "        PNG images are returned as float arrays (0-1).  All other formats are\n",
      "        returned as int arrays, with a bit depth determined by the file's\n",
      "        contents.\n",
      "    \n"
     ]
    }
   ],
   "source": [
    "from matplotlib import pyplot as plt\n",
    "\n",
    "print(plt.imread.__doc__)"
   ]
  },
  {
   "cell_type": "code",
   "execution_count": 4,
   "outputs": [
    {
     "name": "stdout",
     "output_type": "stream",
     "text": [
      "[[[11 11 11]\n",
      "  [ 8  8  8]\n",
      "  [ 6  6  6]\n",
      "  ...\n",
      "  [71 74 57]\n",
      "  [76 79 62]\n",
      "  [51 54 37]]\n",
      "\n",
      " [[ 8  8  8]\n",
      "  [ 8  8  8]\n",
      "  [ 9  9  9]\n",
      "  ...\n",
      "  [75 78 61]\n",
      "  [77 80 63]\n",
      "  [48 51 34]]\n",
      "\n",
      " [[ 6  6  6]\n",
      "  [ 9  9  9]\n",
      "  [11 11 11]\n",
      "  ...\n",
      "  [79 80 64]\n",
      "  [82 83 67]\n",
      "  [53 54 38]]\n",
      "\n",
      " ...\n",
      "\n",
      " [[11 11  9]\n",
      "  [13 13 11]\n",
      "  [ 8  8  6]\n",
      "  ...\n",
      "  [19 20 15]\n",
      "  [15 16 11]\n",
      "  [ 8  9  4]]\n",
      "\n",
      " [[ 9  9  7]\n",
      "  [11 11  9]\n",
      "  [ 6  6  4]\n",
      "  ...\n",
      "  [17 18 13]\n",
      "  [15 16 11]\n",
      "  [10 11  6]]\n",
      "\n",
      " [[ 8  8  6]\n",
      "  [10 10  8]\n",
      "  [ 5  5  3]\n",
      "  ...\n",
      "  [19 20 15]\n",
      "  [18 19 14]\n",
      "  [14 15 10]]]\n"
     ]
    }
   ],
   "source": [
    "im = plt.imread(\"/home/iqrorjoon/PycharmProjects/all matplotlib functions/base/simple_image.jpg\")\n",
    "\n",
    "print(im)"
   ],
   "metadata": {
    "collapsed": false
   }
  }
 ],
 "metadata": {
  "kernelspec": {
   "display_name": "Python 3",
   "language": "python",
   "name": "python3"
  },
  "language_info": {
   "codemirror_mode": {
    "name": "ipython",
    "version": 2
   },
   "file_extension": ".py",
   "mimetype": "text/x-python",
   "name": "python",
   "nbconvert_exporter": "python",
   "pygments_lexer": "ipython2",
   "version": "2.7.6"
  }
 },
 "nbformat": 4,
 "nbformat_minor": 0
}
