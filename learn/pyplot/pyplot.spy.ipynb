{
 "cells": [
  {
   "cell_type": "code",
   "execution_count": 3,
   "metadata": {
    "collapsed": true
   },
   "outputs": [
    {
     "name": "stdout",
     "output_type": "stream",
     "text": [
      "Plot the sparsity pattern of a 2D array.\n",
      "\n",
      "This visualizes the non-zero values of the array.\n",
      "\n",
      "Two plotting styles are available: image and marker. Both\n",
      "are available for full arrays, but only the marker style\n",
      "works for `scipy.sparse.spmatrix` instances.\n",
      "\n",
      "**Image style**\n",
      "\n",
      "If *marker* and *markersize* are *None*, `~.Axes.imshow` is used. Any\n",
      "extra remaining keyword arguments are passed to this method.\n",
      "\n",
      "**Marker style**\n",
      "\n",
      "If *Z* is a `scipy.sparse.spmatrix` or *marker* or *markersize* are\n",
      "*None*, a `.Line2D` object will be returned with the value of marker\n",
      "determining the marker type, and any remaining keyword arguments\n",
      "passed to `~.Axes.plot`.\n",
      "\n",
      "Parameters\n",
      "----------\n",
      "Z : (M, N) array-like\n",
      "    The array to be plotted.\n",
      "\n",
      "precision : float or 'present', default: 0\n",
      "    If *precision* is 0, any non-zero value will be plotted. Otherwise,\n",
      "    values of :math:`|Z| > precision` will be plotted.\n",
      "\n",
      "    For `scipy.sparse.spmatrix` instances, you can also\n",
      "    pass 'present'. In this case any value present in the array\n",
      "    will be plotted, even if it is identically zero.\n",
      "\n",
      "aspect : {'equal', 'auto', None} or float, default: 'equal'\n",
      "    The aspect ratio of the Axes.  This parameter is particularly\n",
      "    relevant for images since it determines whether data pixels are\n",
      "    square.\n",
      "\n",
      "    This parameter is a shortcut for explicitly calling\n",
      "    `.Axes.set_aspect`. See there for further details.\n",
      "\n",
      "    - 'equal': Ensures an aspect ratio of 1. Pixels will be square.\n",
      "    - 'auto': The Axes is kept fixed and the aspect is adjusted so\n",
      "      that the data fit in the Axes. In general, this will result in\n",
      "      non-square pixels.\n",
      "    - *None*: Use :rc:`image.aspect`.\n",
      "\n",
      "origin : {'upper', 'lower'}, default: :rc:`image.origin`\n",
      "    Place the [0, 0] index of the array in the upper left or lower left\n",
      "    corner of the Axes. The convention 'upper' is typically used for\n",
      "    matrices and images.\n",
      "\n",
      "Returns\n",
      "-------\n",
      "`~matplotlib.image.AxesImage` or `.Line2D`\n",
      "    The return type depends on the plotting style (see above).\n",
      "\n",
      "Other Parameters\n",
      "----------------\n",
      "**kwargs\n",
      "    The supported additional parameters depend on the plotting style.\n",
      "\n",
      "    For the image style, you can pass the following additional\n",
      "    parameters of `~.Axes.imshow`:\n",
      "\n",
      "    - *cmap*\n",
      "    - *alpha*\n",
      "    - *url*\n",
      "    - any `.Artist` properties (passed on to the `.AxesImage`)\n",
      "\n",
      "    For the marker style, you can pass any `.Line2D` property except\n",
      "    for *linestyle*:\n",
      "\n",
      "    Properties:\n",
      "    agg_filter: a filter function, which takes a (m, n, 3) float array and a dpi value, and returns a (m, n, 3) array and two offsets from the bottom left corner of the image\n",
      "    alpha: scalar or None\n",
      "    animated: bool\n",
      "    antialiased or aa: bool\n",
      "    clip_box: `.Bbox`\n",
      "    clip_on: bool\n",
      "    clip_path: Patch or (Path, Transform) or None\n",
      "    color or c: color\n",
      "    dash_capstyle: `.CapStyle` or {'butt', 'projecting', 'round'}\n",
      "    dash_joinstyle: `.JoinStyle` or {'miter', 'round', 'bevel'}\n",
      "    dashes: sequence of floats (on/off ink in points) or (None, None)\n",
      "    data: (2, N) array or two 1D arrays\n",
      "    drawstyle or ds: {'default', 'steps', 'steps-pre', 'steps-mid', 'steps-post'}, default: 'default'\n",
      "    figure: `.Figure`\n",
      "    fillstyle: {'full', 'left', 'right', 'bottom', 'top', 'none'}\n",
      "    gapcolor: color or None\n",
      "    gid: str\n",
      "    in_layout: bool\n",
      "    label: object\n",
      "    linestyle or ls: {'-', '--', '-.', ':', '', (offset, on-off-seq), ...}\n",
      "    linewidth or lw: float\n",
      "    marker: marker style string, `~.path.Path` or `~.markers.MarkerStyle`\n",
      "    markeredgecolor or mec: color\n",
      "    markeredgewidth or mew: float\n",
      "    markerfacecolor or mfc: color\n",
      "    markerfacecoloralt or mfcalt: color\n",
      "    markersize or ms: float\n",
      "    markevery: None or int or (int, int) or slice or list[int] or float or (float, float) or list[bool]\n",
      "    mouseover: bool\n",
      "    path_effects: `.AbstractPathEffect`\n",
      "    picker: float or callable[[Artist, Event], tuple[bool, dict]]\n",
      "    pickradius: unknown\n",
      "    rasterized: bool\n",
      "    sketch_params: (scale: float, length: float, randomness: float)\n",
      "    snap: bool or None\n",
      "    solid_capstyle: `.CapStyle` or {'butt', 'projecting', 'round'}\n",
      "    solid_joinstyle: `.JoinStyle` or {'miter', 'round', 'bevel'}\n",
      "    transform: unknown\n",
      "    url: str\n",
      "    visible: bool\n",
      "    xdata: 1D array\n",
      "    ydata: 1D array\n",
      "    zorder: float\n"
     ]
    }
   ],
   "source": [
    "from matplotlib import pyplot as plt\n",
    "import numpy as np\n",
    "\n",
    "print(plt.spy.__doc__)"
   ]
  },
  {
   "cell_type": "code",
   "execution_count": 24,
   "outputs": [
    {
     "data": {
      "text/plain": "<Figure size 640x480 with 1 Axes>",
      "image/png": "[encoded data removed]"
     },
     "metadata": {},
     "output_type": "display_data"
    }
   ],
   "source": [
    "plt.spy(np.random.random((20,50)), precision=0.7)\n",
    "plt.show()"
   ],
   "metadata": {
    "collapsed": false
   }
  }
 ],
 "metadata": {
  "kernelspec": {
   "display_name": "Python 3",
   "language": "python",
   "name": "python3"
  },
  "language_info": {
   "codemirror_mode": {
    "name": "ipython",
    "version": 2
   },
   "file_extension": ".py",
   "mimetype": "text/x-python",
   "name": "python",
   "nbconvert_exporter": "python",
   "pygments_lexer": "ipython2",
   "version": "2.7.6"
  }
 },
 "nbformat": 4,
 "nbformat_minor": 0
}
