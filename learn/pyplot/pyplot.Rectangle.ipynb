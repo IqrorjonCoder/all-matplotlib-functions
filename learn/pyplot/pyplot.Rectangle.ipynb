{
 "cells": [
  {
   "cell_type": "code",
   "execution_count": 1,
   "metadata": {
    "collapsed": true
   },
   "outputs": [
    {
     "name": "stdout",
     "output_type": "stream",
     "text": [
      "\n",
      "    A rectangle defined via an anchor point *xy* and its *width* and *height*.\n",
      "\n",
      "    The rectangle extends from ``xy[0]`` to ``xy[0] + width`` in x-direction\n",
      "    and from ``xy[1]`` to ``xy[1] + height`` in y-direction. ::\n",
      "\n",
      "      :                +------------------+\n",
      "      :                |                  |\n",
      "      :              height               |\n",
      "      :                |                  |\n",
      "      :               (xy)---- width -----+\n",
      "\n",
      "    One may picture *xy* as the bottom left corner, but which corner *xy* is\n",
      "    actually depends on the direction of the axis and the sign of *width*\n",
      "    and *height*; e.g. *xy* would be the bottom right corner if the x-axis\n",
      "    was inverted or if *width* was negative.\n",
      "    \n"
     ]
    }
   ],
   "source": [
    "from matplotlib import pyplot as plt\n",
    "\n",
    "print(plt.Rectangle.__doc__)"
   ]
  },
  {
   "cell_type": "code",
   "execution_count": 16,
   "outputs": [
    {
     "data": {
      "text/plain": "<property at 0x7f908c175d10>"
     },
     "execution_count": 16,
     "metadata": {},
     "output_type": "execute_result"
    }
   ],
   "source": [
    "plt.Rectangle.axes"
   ],
   "metadata": {
    "collapsed": false
   }
  }
 ],
 "metadata": {
  "kernelspec": {
   "display_name": "Python 3",
   "language": "python",
   "name": "python3"
  },
  "language_info": {
   "codemirror_mode": {
    "name": "ipython",
    "version": 2
   },
   "file_extension": ".py",
   "mimetype": "text/x-python",
   "name": "python",
   "nbconvert_exporter": "python",
   "pygments_lexer": "ipython2",
   "version": "2.7.6"
  }
 },
 "nbformat": 4,
 "nbformat_minor": 0
}
