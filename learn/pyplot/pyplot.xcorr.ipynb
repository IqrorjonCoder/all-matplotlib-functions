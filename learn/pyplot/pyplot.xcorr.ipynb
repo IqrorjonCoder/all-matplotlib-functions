{
 "cells": [
  {
   "cell_type": "code",
   "execution_count": 1,
   "metadata": {
    "collapsed": true
   },
   "outputs": [
    {
     "name": "stdout",
     "output_type": "stream",
     "text": [
      "Plot the cross correlation between *x* and *y*.\n",
      "\n",
      "The correlation with lag k is defined as\n",
      ":math:`\\sum_n x[n+k] \\cdot y^*[n]`, where :math:`y^*` is the complex\n",
      "conjugate of :math:`y`.\n",
      "\n",
      "Parameters\n",
      "----------\n",
      "x, y : array-like of length n\n",
      "\n",
      "detrend : callable, default: `.mlab.detrend_none` (no detrending)\n",
      "    A detrending function applied to *x* and *y*.  It must have the\n",
      "    signature ::\n",
      "\n",
      "        detrend(x: np.ndarray) -> np.ndarray\n",
      "\n",
      "normed : bool, default: True\n",
      "    If ``True``, input vectors are normalised to unit length.\n",
      "\n",
      "usevlines : bool, default: True\n",
      "    Determines the plot style.\n",
      "\n",
      "    If ``True``, vertical lines are plotted from 0 to the xcorr value\n",
      "    using `.Axes.vlines`. Additionally, a horizontal line is plotted\n",
      "    at y=0 using `.Axes.axhline`.\n",
      "\n",
      "    If ``False``, markers are plotted at the xcorr values using\n",
      "    `.Axes.plot`.\n",
      "\n",
      "maxlags : int, default: 10\n",
      "    Number of lags to show. If None, will return all ``2 * len(x) - 1``\n",
      "    lags.\n",
      "\n",
      "Returns\n",
      "-------\n",
      "lags : array (length ``2*maxlags+1``)\n",
      "    The lag vector.\n",
      "c : array  (length ``2*maxlags+1``)\n",
      "    The auto correlation vector.\n",
      "line : `.LineCollection` or `.Line2D`\n",
      "    `.Artist` added to the Axes of the correlation:\n",
      "\n",
      "    - `.LineCollection` if *usevlines* is True.\n",
      "    - `.Line2D` if *usevlines* is False.\n",
      "b : `.Line2D` or None\n",
      "    Horizontal line at 0 if *usevlines* is True\n",
      "    None *usevlines* is False.\n",
      "\n",
      "Other Parameters\n",
      "----------------\n",
      "linestyle : `.Line2D` property, optional\n",
      "    The linestyle for plotting the data points.\n",
      "    Only used if *usevlines* is ``False``.\n",
      "\n",
      "marker : str, default: 'o'\n",
      "    The marker for plotting the data points.\n",
      "    Only used if *usevlines* is ``False``.\n",
      "\n",
      "data : indexable object, optional\n",
      "    If given, the following parameters also accept a string ``s``, which is\n",
      "    interpreted as ``data[s]`` (unless this raises an exception):\n",
      "\n",
      "    *x*, *y*\n",
      "\n",
      "**kwargs\n",
      "    Additional parameters are passed to `.Axes.vlines` and\n",
      "    `.Axes.axhline` if *usevlines* is ``True``; otherwise they are\n",
      "    passed to `.Axes.plot`.\n",
      "\n",
      "Notes\n",
      "-----\n",
      "The cross correlation is performed with `numpy.correlate` with\n",
      "``mode = \"full\"``.\n"
     ]
    }
   ],
   "source": [
    "from matplotlib import pyplot as plt\n",
    "\n",
    "print(plt.xcorr.__doc__)"
   ]
  },
  {
   "cell_type": "code",
   "execution_count": 7,
   "outputs": [
    {
     "data": {
      "text/plain": "<Figure size 640x480 with 1 Axes>",
      "image/png": "[encoded data removed]"
     },
     "metadata": {},
     "output_type": "display_data"
    }
   ],
   "source": [
    "x=[11.37, 14.23, 16.3, 12.36,\n",
    "   6.54, 4.23, 19.11, 12.13,\n",
    "   19.91, 11.00]\n",
    "\n",
    "y=[15.21, 12.23, 4.76, 9.89,\n",
    "   8.96, 19.26, 12.24, 11.54,\n",
    "   13.39, 18.96]\n",
    "\n",
    "plt.xcorr(x, y,usevlines=True,\n",
    "          maxlags=5, normed=True,\n",
    "          lw=2)\n",
    "\n",
    "plt.show()"
   ],
   "metadata": {
    "collapsed": false
   }
  }
 ],
 "metadata": {
  "kernelspec": {
   "display_name": "Python 3",
   "language": "python",
   "name": "python3"
  },
  "language_info": {
   "codemirror_mode": {
    "name": "ipython",
    "version": 2
   },
   "file_extension": ".py",
   "mimetype": "text/x-python",
   "name": "python",
   "nbconvert_exporter": "python",
   "pygments_lexer": "ipython2",
   "version": "2.7.6"
  }
 },
 "nbformat": 4,
 "nbformat_minor": 0
}
