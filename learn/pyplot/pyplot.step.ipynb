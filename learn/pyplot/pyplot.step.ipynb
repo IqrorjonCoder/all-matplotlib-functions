{
 "cells": [
  {
   "cell_type": "code",
   "execution_count": 2,
   "metadata": {
    "collapsed": true
   },
   "outputs": [
    {
     "name": "stdout",
     "output_type": "stream",
     "text": [
      "\n",
      "        Make a step plot.\n",
      "\n",
      "        Call signatures::\n",
      "\n",
      "            step(x, y, [fmt], *, data=None, where='pre', **kwargs)\n",
      "            step(x, y, [fmt], x2, y2, [fmt2], ..., *, where='pre', **kwargs)\n",
      "\n",
      "        This is just a thin wrapper around `.plot` which changes some\n",
      "        formatting options. Most of the concepts and parameters of plot can be\n",
      "        used here as well.\n",
      "\n",
      "        .. note::\n",
      "\n",
      "            This method uses a standard plot with a step drawstyle: The *x*\n",
      "            values are the reference positions and steps extend left/right/both\n",
      "            directions depending on *where*.\n",
      "\n",
      "            For the common case where you know the values and edges of the\n",
      "            steps, use `~.Axes.stairs` instead.\n",
      "\n",
      "        Parameters\n",
      "        ----------\n",
      "        x : array-like\n",
      "            1D sequence of x positions. It is assumed, but not checked, that\n",
      "            it is uniformly increasing.\n",
      "\n",
      "        y : array-like\n",
      "            1D sequence of y levels.\n",
      "\n",
      "        fmt : str, optional\n",
      "            A format string, e.g. 'g' for a green line. See `.plot` for a more\n",
      "            detailed description.\n",
      "\n",
      "            Note: While full format strings are accepted, it is recommended to\n",
      "            only specify the color. Line styles are currently ignored (use\n",
      "            the keyword argument *linestyle* instead). Markers are accepted\n",
      "            and plotted on the given positions, however, this is a rarely\n",
      "            needed feature for step plots.\n",
      "\n",
      "        where : {'pre', 'post', 'mid'}, default: 'pre'\n",
      "            Define where the steps should be placed:\n",
      "\n",
      "            - 'pre': The y value is continued constantly to the left from\n",
      "              every *x* position, i.e. the interval ``(x[i-1], x[i]]`` has the\n",
      "              value ``y[i]``.\n",
      "            - 'post': The y value is continued constantly to the right from\n",
      "              every *x* position, i.e. the interval ``[x[i], x[i+1])`` has the\n",
      "              value ``y[i]``.\n",
      "            - 'mid': Steps occur half-way between the *x* positions.\n",
      "\n",
      "        data : indexable object, optional\n",
      "            An object with labelled data. If given, provide the label names to\n",
      "            plot in *x* and *y*.\n",
      "\n",
      "        **kwargs\n",
      "            Additional parameters are the same as those for `.plot`.\n",
      "\n",
      "        Returns\n",
      "        -------\n",
      "        list of `.Line2D`\n",
      "            Objects representing the plotted data.\n",
      "        \n"
     ]
    }
   ],
   "source": [
    "from matplotlib import pyplot as plt\n",
    "import numpy as np\n",
    "\n",
    "print(plt.step.__doc__)"
   ]
  },
  {
   "cell_type": "code",
   "execution_count": 12,
   "outputs": [
    {
     "data": {
      "text/plain": "<Figure size 640x480 with 1 Axes>",
      "image/png": "[encoded data removed]"
     },
     "metadata": {},
     "output_type": "display_data"
    }
   ],
   "source": [
    "plt.step(\n",
    "    np.random.random(20),\n",
    "    np.random.random(20),\n",
    "    'ro',\n",
    "    np.random.random(20),\n",
    "    np.random.random(20),\n",
    "    'b.',\n",
    "    np.random.random(20),\n",
    "    np.random.random(20),\n",
    "    'g^',\n",
    ")\n",
    "\n",
    "plt.show()"
   ],
   "metadata": {
    "collapsed": false
   }
  }
 ],
 "metadata": {
  "kernelspec": {
   "display_name": "Python 3",
   "language": "python",
   "name": "python3"
  },
  "language_info": {
   "codemirror_mode": {
    "name": "ipython",
    "version": 2
   },
   "file_extension": ".py",
   "mimetype": "text/x-python",
   "name": "python",
   "nbconvert_exporter": "python",
   "pygments_lexer": "ipython2",
   "version": "2.7.6"
  }
 },
 "nbformat": 4,
 "nbformat_minor": 0
}
