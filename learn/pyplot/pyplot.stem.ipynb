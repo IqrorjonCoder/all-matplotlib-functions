{
 "cells": [
  {
   "cell_type": "code",
   "execution_count": 1,
   "metadata": {
    "collapsed": true
   },
   "outputs": [
    {
     "name": "stdout",
     "output_type": "stream",
     "text": [
      "Create a stem plot.\n",
      "\n",
      "A stem plot draws lines perpendicular to a baseline at each location\n",
      "*locs* from the baseline to *heads*, and places a marker there. For\n",
      "vertical stem plots (the default), the *locs* are *x* positions, and\n",
      "the *heads* are *y* values. For horizontal stem plots, the *locs* are\n",
      "*y* positions, and the *heads* are *x* values.\n",
      "\n",
      "Call signature::\n",
      "\n",
      "  stem([locs,] heads, linefmt=None, markerfmt=None, basefmt=None)\n",
      "\n",
      "The *locs*-positions are optional. The formats may be provided either\n",
      "as positional or as keyword-arguments.\n",
      "Passing *markerfmt* and *basefmt* positionally is deprecated since\n",
      "Matplotlib 3.5.\n",
      "\n",
      "Parameters\n",
      "----------\n",
      "locs : array-like, default: (0, 1, ..., len(heads) - 1)\n",
      "    For vertical stem plots, the x-positions of the stems.\n",
      "    For horizontal stem plots, the y-positions of the stems.\n",
      "\n",
      "heads : array-like\n",
      "    For vertical stem plots, the y-values of the stem heads.\n",
      "    For horizontal stem plots, the x-values of the stem heads.\n",
      "\n",
      "linefmt : str, optional\n",
      "    A string defining the color and/or linestyle of the vertical lines:\n",
      "\n",
      "    =========  =============\n",
      "    Character  Line Style\n",
      "    =========  =============\n",
      "    ``'-'``    solid line\n",
      "    ``'--'``   dashed line\n",
      "    ``'-.'``   dash-dot line\n",
      "    ``':'``    dotted line\n",
      "    =========  =============\n",
      "\n",
      "    Default: 'C0-', i.e. solid line with the first color of the color\n",
      "    cycle.\n",
      "\n",
      "    Note: Markers specified through this parameter (e.g. 'x') will be\n",
      "    silently ignored (unless using ``use_line_collection=False``).\n",
      "    Instead, markers should be specified using *markerfmt*.\n",
      "\n",
      "markerfmt : str, optional\n",
      "    A string defining the color and/or shape of the markers at the stem\n",
      "    heads. If the marker is not given, use the marker 'o', i.e. filled\n",
      "    circles. If the color is not given, use the color from *linefmt*.\n",
      "\n",
      "basefmt : str, default: 'C3-' ('C2-' in classic mode)\n",
      "    A format string defining the properties of the baseline.\n",
      "\n",
      "orientation : str, default: 'vertical'\n",
      "    If 'vertical', will produce a plot with stems oriented vertically,\n",
      "    otherwise the stems will be oriented horizontally.\n",
      "\n",
      "bottom : float, default: 0\n",
      "    The y/x-position of the baseline (depending on orientation).\n",
      "\n",
      "label : str, default: None\n",
      "    The label to use for the stems in legends.\n",
      "\n",
      "use_line_collection : bool, default: True\n",
      "    *Deprecated since 3.6*\n",
      "\n",
      "    If ``True``, store and plot the stem lines as a\n",
      "    `~.collections.LineCollection` instead of individual lines, which\n",
      "    significantly increases performance.  If ``False``, defaults to the\n",
      "    old behavior of using a list of `.Line2D` objects.\n",
      "\n",
      "data : indexable object, optional\n",
      "    If given, all parameters also accept a string ``s``, which is\n",
      "    interpreted as ``data[s]`` (unless this raises an exception).\n",
      "\n",
      "Returns\n",
      "-------\n",
      "`.StemContainer`\n",
      "    The container may be treated like a tuple\n",
      "    (*markerline*, *stemlines*, *baseline*)\n",
      "\n",
      "Notes\n",
      "-----\n",
      ".. seealso::\n",
      "    The MATLAB function\n",
      "    `stem <https://www.mathworks.com/help/matlab/ref/stem.html>`_\n",
      "    which inspired this method.\n"
     ]
    }
   ],
   "source": [
    "from matplotlib import pyplot as plt\n",
    "\n",
    "print(plt.stem.__doc__)"
   ]
  },
  {
   "cell_type": "code",
   "execution_count": 12,
   "outputs": [
    {
     "data": {
      "text/plain": "<Figure size 640x480 with 1 Axes>",
      "image/png": "[encoded data removed]"
     },
     "metadata": {},
     "output_type": "display_data"
    }
   ],
   "source": [
    "plt.stem([1,2,4],\n",
    "         [3,2,2],\n",
    "         'r:')\n",
    "\n",
    "plt.show()"
   ],
   "metadata": {
    "collapsed": false
   }
  }
 ],
 "metadata": {
  "kernelspec": {
   "display_name": "Python 3",
   "language": "python",
   "name": "python3"
  },
  "language_info": {
   "codemirror_mode": {
    "name": "ipython",
    "version": 2
   },
   "file_extension": ".py",
   "mimetype": "text/x-python",
   "name": "python",
   "nbconvert_exporter": "python",
   "pygments_lexer": "ipython2",
   "version": "2.7.6"
  }
 },
 "nbformat": 4,
 "nbformat_minor": 0
}
