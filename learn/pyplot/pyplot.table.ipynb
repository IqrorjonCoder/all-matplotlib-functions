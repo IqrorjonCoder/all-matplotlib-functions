{
 "cells": [
  {
   "cell_type": "code",
   "execution_count": 1,
   "metadata": {
    "collapsed": true
   },
   "outputs": [
    {
     "name": "stdout",
     "output_type": "stream",
     "text": [
      "Add a table to an `~.axes.Axes`.\n",
      "\n",
      "At least one of *cellText* or *cellColours* must be specified. These\n",
      "parameters must be 2D lists, in which the outer lists define the rows and\n",
      "the inner list define the column values per row. Each row must have the\n",
      "same number of elements.\n",
      "\n",
      "The table can optionally have row and column headers, which are configured\n",
      "using *rowLabels*, *rowColours*, *rowLoc* and *colLabels*, *colColours*,\n",
      "*colLoc* respectively.\n",
      "\n",
      "For finer grained control over tables, use the `.Table` class and add it to\n",
      "the axes with `.Axes.add_table`.\n",
      "\n",
      "Parameters\n",
      "----------\n",
      "cellText : 2D list of str, optional\n",
      "    The texts to place into the table cells.\n",
      "\n",
      "    *Note*: Line breaks in the strings are currently not accounted for and\n",
      "    will result in the text exceeding the cell boundaries.\n",
      "\n",
      "cellColours : 2D list of colors, optional\n",
      "    The background colors of the cells.\n",
      "\n",
      "cellLoc : {'left', 'center', 'right'}, default: 'right'\n",
      "    The alignment of the text within the cells.\n",
      "\n",
      "colWidths : list of float, optional\n",
      "    The column widths in units of the axes. If not given, all columns will\n",
      "    have a width of *1 / ncols*.\n",
      "\n",
      "rowLabels : list of str, optional\n",
      "    The text of the row header cells.\n",
      "\n",
      "rowColours : list of colors, optional\n",
      "    The colors of the row header cells.\n",
      "\n",
      "rowLoc : {'left', 'center', 'right'}, default: 'left'\n",
      "    The text alignment of the row header cells.\n",
      "\n",
      "colLabels : list of str, optional\n",
      "    The text of the column header cells.\n",
      "\n",
      "colColours : list of colors, optional\n",
      "    The colors of the column header cells.\n",
      "\n",
      "colLoc : {'left', 'center', 'right'}, default: 'left'\n",
      "    The text alignment of the column header cells.\n",
      "\n",
      "loc : str, optional\n",
      "    The position of the cell with respect to *ax*. This must be one of\n",
      "    the `~.Table.codes`.\n",
      "\n",
      "bbox : `.Bbox`, optional\n",
      "    A bounding box to draw the table into. If this is not *None*, this\n",
      "    overrides *loc*.\n",
      "\n",
      "edges : substring of 'BRTL' or {'open', 'closed', 'horizontal', 'vertical'}\n",
      "    The cell edges to be drawn with a line. See also\n",
      "    `~.Cell.visible_edges`.\n",
      "\n",
      "Returns\n",
      "-------\n",
      "`~matplotlib.table.Table`\n",
      "    The created table.\n",
      "\n",
      "Other Parameters\n",
      "----------------\n",
      "**kwargs\n",
      "    `.Table` properties.\n",
      "\n",
      "Properties:\n",
      "    agg_filter: a filter function, which takes a (m, n, 3) float array and a dpi value, and returns a (m, n, 3) array and two offsets from the bottom left corner of the image\n",
      "    alpha: scalar or None\n",
      "    animated: bool\n",
      "    clip_box: `.Bbox`\n",
      "    clip_on: bool\n",
      "    clip_path: Patch or (Path, Transform) or None\n",
      "    figure: `.Figure`\n",
      "    fontsize: float\n",
      "    gid: str\n",
      "    in_layout: bool\n",
      "    label: object\n",
      "    mouseover: bool\n",
      "    path_effects: `.AbstractPathEffect`\n",
      "    picker: None or bool or float or callable\n",
      "    rasterized: bool\n",
      "    sketch_params: (scale: float, length: float, randomness: float)\n",
      "    snap: bool or None\n",
      "    transform: `.Transform`\n",
      "    url: str\n",
      "    visible: bool\n",
      "    zorder: float\n"
     ]
    }
   ],
   "source": [
    "from matplotlib import pyplot as plt\n",
    "\n",
    "print(plt.table.__doc__)"
   ]
  },
  {
   "cell_type": "code",
   "execution_count": 9,
   "outputs": [
    {
     "data": {
      "text/plain": "<Figure size 640x480 with 1 Axes>",
      "image/png": "[encoded data removed]"
     },
     "metadata": {},
     "output_type": "display_data"
    }
   ],
   "source": [
    "plt.plot([1,2,3],\n",
    "         [3,2,2])\n",
    "plt.xticks([])\n",
    "\n",
    "plt.table([['one1', 'one2', 'one3'],\n",
    "           ['two1', 'two2', 'two3']],\n",
    "\n",
    "          [['red', 'red', 'red'],\n",
    "           ['blue', 'blue', 'blue']],\n",
    "\n",
    "          rowLabels=['first', 'second'],\n",
    "          colLabels=['one', 'two', 'three'])\n",
    "\n",
    "plt.show()"
   ],
   "metadata": {
    "collapsed": false
   }
  }
 ],
 "metadata": {
  "kernelspec": {
   "display_name": "Python 3",
   "language": "python",
   "name": "python3"
  },
  "language_info": {
   "codemirror_mode": {
    "name": "ipython",
    "version": 2
   },
   "file_extension": ".py",
   "mimetype": "text/x-python",
   "name": "python",
   "nbconvert_exporter": "python",
   "pygments_lexer": "ipython2",
   "version": "2.7.6"
  }
 },
 "nbformat": 4,
 "nbformat_minor": 0
}
