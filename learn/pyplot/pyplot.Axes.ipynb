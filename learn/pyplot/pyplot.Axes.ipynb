{
 "cells": [
  {
   "cell_type": "code",
   "execution_count": 12,
   "metadata": {
    "collapsed": true
   },
   "outputs": [
    {
     "name": "stdout",
     "output_type": "stream",
     "text": [
      "The `Axes` contains most of the figure elements: `~.axis.Axis`,\n",
      "`~.axis.Tick`, `~.lines.Line2D`, `~.text.Text`, `~.patches.Polygon`, etc.,\n",
      "and sets the coordinate system.\n",
      "\n",
      "The `Axes` instance supports callbacks through a callbacks attribute which\n",
      "is a `~.cbook.CallbackRegistry` instance.  The events you can connect to\n",
      "are 'xlim_changed' and 'ylim_changed' and the callback will be called with\n",
      "func(*ax*) where *ax* is the `Axes` instance.\n",
      "\n",
      "Attributes\n",
      "----------\n",
      "dataLim : `.Bbox`\n",
      "    The bounding box enclosing all data displayed in the Axes.\n",
      "viewLim : `.Bbox`\n",
      "    The view limits in data coordinates.\n"
     ]
    }
   ],
   "source": [
    "from matplotlib import pyplot as plt\n",
    "\n",
    "print(plt.Axes.__doc__)"
   ]
  }
 ],
 "metadata": {
  "kernelspec": {
   "display_name": "Python 3",
   "language": "python",
   "name": "python3"
  },
  "language_info": {
   "codemirror_mode": {
    "name": "ipython",
    "version": 2
   },
   "file_extension": ".py",
   "mimetype": "text/x-python",
   "name": "python",
   "nbconvert_exporter": "python",
   "pygments_lexer": "ipython2",
   "version": "2.7.6"
  }
 },
 "nbformat": 4,
 "nbformat_minor": 0
}
