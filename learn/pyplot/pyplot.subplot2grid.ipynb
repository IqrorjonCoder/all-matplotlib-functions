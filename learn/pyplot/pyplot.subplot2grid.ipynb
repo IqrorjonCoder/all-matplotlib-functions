{
 "cells": [
  {
   "cell_type": "code",
   "execution_count": 1,
   "metadata": {
    "collapsed": true
   },
   "outputs": [
    {
     "name": "stdout",
     "output_type": "stream",
     "text": [
      "\n",
      "    Create a subplot at a specific location inside a regular grid.\n",
      "\n",
      "    Parameters\n",
      "    ----------\n",
      "    shape : (int, int)\n",
      "        Number of rows and of columns of the grid in which to place axis.\n",
      "    loc : (int, int)\n",
      "        Row number and column number of the axis location within the grid.\n",
      "    rowspan : int, default: 1\n",
      "        Number of rows for the axis to span downwards.\n",
      "    colspan : int, default: 1\n",
      "        Number of columns for the axis to span to the right.\n",
      "    fig : `.Figure`, optional\n",
      "        Figure to place the subplot in. Defaults to the current figure.\n",
      "    **kwargs\n",
      "        Additional keyword arguments are handed to `~.Figure.add_subplot`.\n",
      "\n",
      "    Returns\n",
      "    -------\n",
      "    `.axes.SubplotBase`, or another subclass of `~.axes.Axes`\n",
      "\n",
      "        The axes of the subplot.  The returned axes base class depends on the\n",
      "        projection used.  It is `~.axes.Axes` if rectilinear projection is used\n",
      "        and `.projections.polar.PolarAxes` if polar projection is used.  The\n",
      "        returned axes is then a subplot subclass of the base class.\n",
      "\n",
      "    Notes\n",
      "    -----\n",
      "    The following call ::\n",
      "\n",
      "        ax = subplot2grid((nrows, ncols), (row, col), rowspan, colspan)\n",
      "\n",
      "    is identical to ::\n",
      "\n",
      "        fig = gcf()\n",
      "        gs = fig.add_gridspec(nrows, ncols)\n",
      "        ax = fig.add_subplot(gs[row:row+rowspan, col:col+colspan])\n",
      "    \n"
     ]
    }
   ],
   "source": [
    "from matplotlib import pyplot as plt\n",
    "\n",
    "print(plt.subplot2grid.__doc__)"
   ]
  },
  {
   "cell_type": "code",
   "execution_count": 22,
   "outputs": [
    {
     "data": {
      "text/plain": "<Figure size 640x480 with 1 Axes>",
      "image/png": "[encoded data removed]"
     },
     "metadata": {},
     "output_type": "display_data"
    }
   ],
   "source": [
    "plt.subplot2grid((2,2), (1,1))\n",
    "\n",
    "plt.show()"
   ],
   "metadata": {
    "collapsed": false
   }
  }
 ],
 "metadata": {
  "kernelspec": {
   "display_name": "Python 3",
   "language": "python",
   "name": "python3"
  },
  "language_info": {
   "codemirror_mode": {
    "name": "ipython",
    "version": 2
   },
   "file_extension": ".py",
   "mimetype": "text/x-python",
   "name": "python",
   "nbconvert_exporter": "python",
   "pygments_lexer": "ipython2",
   "version": "2.7.6"
  }
 },
 "nbformat": 4,
 "nbformat_minor": 0
}
