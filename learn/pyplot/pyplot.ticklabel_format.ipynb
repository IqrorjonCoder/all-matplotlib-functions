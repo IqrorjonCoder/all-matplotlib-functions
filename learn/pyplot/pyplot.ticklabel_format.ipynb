{
 "cells": [
  {
   "cell_type": "code",
   "execution_count": 1,
   "outputs": [
    {
     "name": "stdout",
     "output_type": "stream",
     "text": [
      "\n",
      "        Configure the `.ScalarFormatter` used by default for linear Axes.\n",
      "\n",
      "        If a parameter is not set, the corresponding property of the formatter\n",
      "        is left unchanged.\n",
      "\n",
      "        Parameters\n",
      "        ----------\n",
      "        axis : {'x', 'y', 'both'}, default: 'both'\n",
      "            The axis to configure.  Only major ticks are affected.\n",
      "\n",
      "        style : {'sci', 'scientific', 'plain'}\n",
      "            Whether to use scientific notation.\n",
      "            The formatter default is to use scientific notation.\n",
      "\n",
      "        scilimits : pair of ints (m, n)\n",
      "            Scientific notation is used only for numbers outside the range\n",
      "            10\\ :sup:`m` to 10\\ :sup:`n` (and only if the formatter is\n",
      "            configured to use scientific notation at all).  Use (0, 0) to\n",
      "            include all numbers.  Use (m, m) where m != 0 to fix the order of\n",
      "            magnitude to 10\\ :sup:`m`.\n",
      "            The formatter default is :rc:`axes.formatter.limits`.\n",
      "\n",
      "        useOffset : bool or float\n",
      "            If True, the offset is calculated as needed.\n",
      "            If False, no offset is used.\n",
      "            If a numeric value, it sets the offset.\n",
      "            The formatter default is :rc:`axes.formatter.useoffset`.\n",
      "\n",
      "        useLocale : bool\n",
      "            Whether to format the number using the current locale or using the\n",
      "            C (English) locale.  This affects e.g. the decimal separator.  The\n",
      "            formatter default is :rc:`axes.formatter.use_locale`.\n",
      "\n",
      "        useMathText : bool\n",
      "            Render the offset and scientific notation in mathtext.\n",
      "            The formatter default is :rc:`axes.formatter.use_mathtext`.\n",
      "\n",
      "        Raises\n",
      "        ------\n",
      "        AttributeError\n",
      "            If the current formatter is not a `.ScalarFormatter`.\n",
      "        \n"
     ]
    }
   ],
   "source": [
    "from matplotlib import pyplot as plt\n",
    "\n",
    "print(plt.ticklabel_format.__doc__)"
   ],
   "metadata": {
    "collapsed": false
   }
  },
  {
   "cell_type": "code",
   "execution_count": 12,
   "outputs": [
    {
     "data": {
      "text/plain": "<Figure size 640x480 with 1 Axes>",
      "image/png": "[encoded data removed]"
     },
     "metadata": {},
     "output_type": "display_data"
    }
   ],
   "source": [
    "x = plt.bar([1,2,3], [1,3,2])\n",
    "\n",
    "plt.bar_label(x, ['first', 'second', 'third'])\n",
    "\n",
    "plt.ticklabel_format(style='plain')\n",
    "\n",
    "plt.show()"
   ],
   "metadata": {
    "collapsed": false
   }
  }
 ],
 "metadata": {
  "kernelspec": {
   "display_name": "Python 3",
   "language": "python",
   "name": "python3"
  },
  "language_info": {
   "codemirror_mode": {
    "name": "ipython",
    "version": 2
   },
   "file_extension": ".py",
   "mimetype": "text/x-python",
   "name": "python",
   "nbconvert_exporter": "python",
   "pygments_lexer": "ipython2",
   "version": "2.7.6"
  }
 },
 "nbformat": 4,
 "nbformat_minor": 0
}
