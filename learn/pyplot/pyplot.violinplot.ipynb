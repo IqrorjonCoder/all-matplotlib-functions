{
 "cells": [
  {
   "cell_type": "code",
   "execution_count": 7,
   "metadata": {
    "collapsed": true
   },
   "outputs": [
    {
     "name": "stdout",
     "output_type": "stream",
     "text": [
      "Make a violin plot.\n",
      "\n",
      "Make a violin plot for each column of *dataset* or each vector in\n",
      "sequence *dataset*.  Each filled area extends to represent the\n",
      "entire data range, with optional lines at the mean, the median,\n",
      "the minimum, the maximum, and user-specified quantiles.\n",
      "\n",
      "Parameters\n",
      "----------\n",
      "dataset : Array or a sequence of vectors.\n",
      "  The input data.\n",
      "\n",
      "positions : array-like, default: [1, 2, ..., n]\n",
      "  The positions of the violins. The ticks and limits are\n",
      "  automatically set to match the positions.\n",
      "\n",
      "vert : bool, default: True.\n",
      "  If true, creates a vertical violin plot.\n",
      "  Otherwise, creates a horizontal violin plot.\n",
      "\n",
      "widths : array-like, default: 0.5\n",
      "  Either a scalar or a vector that sets the maximal width of\n",
      "  each violin. The default is 0.5, which uses about half of the\n",
      "  available horizontal space.\n",
      "\n",
      "showmeans : bool, default: False\n",
      "  If `True`, will toggle rendering of the means.\n",
      "\n",
      "showextrema : bool, default: True\n",
      "  If `True`, will toggle rendering of the extrema.\n",
      "\n",
      "showmedians : bool, default: False\n",
      "  If `True`, will toggle rendering of the medians.\n",
      "\n",
      "quantiles : array-like, default: None\n",
      "  If not None, set a list of floats in interval [0, 1] for each violin,\n",
      "  which stands for the quantiles that will be rendered for that\n",
      "  violin.\n",
      "\n",
      "points : int, default: 100\n",
      "  Defines the number of points to evaluate each of the\n",
      "  gaussian kernel density estimations at.\n",
      "\n",
      "bw_method : str, scalar or callable, optional\n",
      "  The method used to calculate the estimator bandwidth.  This can be\n",
      "  'scott', 'silverman', a scalar constant or a callable.  If a\n",
      "  scalar, this will be used directly as `kde.factor`.  If a\n",
      "  callable, it should take a `matplotlib.mlab.GaussianKDE` instance as\n",
      "  its only parameter and return a scalar. If None (default), 'scott'\n",
      "  is used.\n",
      "\n",
      "data : indexable object, optional\n",
      "    If given, the following parameters also accept a string ``s``, which is\n",
      "    interpreted as ``data[s]`` (unless this raises an exception):\n",
      "\n",
      "    *dataset*\n",
      "\n",
      "Returns\n",
      "-------\n",
      "dict\n",
      "  A dictionary mapping each component of the violinplot to a\n",
      "  list of the corresponding collection instances created. The\n",
      "  dictionary has the following keys:\n",
      "\n",
      "  - ``bodies``: A list of the `~.collections.PolyCollection`\n",
      "    instances containing the filled area of each violin.\n",
      "\n",
      "  - ``cmeans``: A `~.collections.LineCollection` instance that marks\n",
      "    the mean values of each of the violin's distribution.\n",
      "\n",
      "  - ``cmins``: A `~.collections.LineCollection` instance that marks\n",
      "    the bottom of each violin's distribution.\n",
      "\n",
      "  - ``cmaxes``: A `~.collections.LineCollection` instance that marks\n",
      "    the top of each violin's distribution.\n",
      "\n",
      "  - ``cbars``: A `~.collections.LineCollection` instance that marks\n",
      "    the centers of each violin's distribution.\n",
      "\n",
      "  - ``cmedians``: A `~.collections.LineCollection` instance that\n",
      "    marks the median values of each of the violin's distribution.\n",
      "\n",
      "  - ``cquantiles``: A `~.collections.LineCollection` instance created\n",
      "    to identify the quantile values of each of the violin's\n",
      "    distribution.\n"
     ]
    }
   ],
   "source": [
    "from matplotlib import pyplot as plt\n",
    "import numpy as np\n",
    "\n",
    "print(plt.violinplot.__doc__)"
   ]
  },
  {
   "cell_type": "code",
   "execution_count": 9,
   "outputs": [
    {
     "data": {
      "text/plain": "<Figure size 640x480 with 1 Axes>",
      "image/png": "[encoded data removed]"
     },
     "metadata": {},
     "output_type": "display_data"
    }
   ],
   "source": [
    "plt.violinplot(np.random.random(111))\n",
    "\n",
    "plt.show()"
   ],
   "metadata": {
    "collapsed": false
   }
  }
 ],
 "metadata": {
  "kernelspec": {
   "display_name": "Python 3",
   "language": "python",
   "name": "python3"
  },
  "language_info": {
   "codemirror_mode": {
    "name": "ipython",
    "version": 2
   },
   "file_extension": ".py",
   "mimetype": "text/x-python",
   "name": "python",
   "nbconvert_exporter": "python",
   "pygments_lexer": "ipython2",
   "version": "2.7.6"
  }
 },
 "nbformat": 4,
 "nbformat_minor": 0
}
