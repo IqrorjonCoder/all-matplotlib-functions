{
 "cells": [
  {
   "cell_type": "code",
   "execution_count": 2,
   "metadata": {
    "collapsed": true
   },
   "outputs": [
    {
     "name": "stdout",
     "output_type": "stream",
     "text": [
      "Plot a horizontal sequence of rectangles.\n",
      "\n",
      "A rectangle is drawn for each element of *xranges*. All rectangles\n",
      "have the same vertical position and size defined by *yrange*.\n",
      "\n",
      "This is a convenience function for instantiating a\n",
      "`.BrokenBarHCollection`, adding it to the Axes and autoscaling the\n",
      "view.\n",
      "\n",
      "Parameters\n",
      "----------\n",
      "xranges : sequence of tuples (*xmin*, *xwidth*)\n",
      "    The x-positions and extends of the rectangles. For each tuple\n",
      "    (*xmin*, *xwidth*) a rectangle is drawn from *xmin* to *xmin* +\n",
      "    *xwidth*.\n",
      "yrange : (*ymin*, *yheight*)\n",
      "    The y-position and extend for all the rectangles.\n",
      "\n",
      "Returns\n",
      "-------\n",
      "`~.collections.BrokenBarHCollection`\n",
      "\n",
      "Other Parameters\n",
      "----------------\n",
      "data : indexable object, optional\n",
      "    If given, all parameters also accept a string ``s``, which is\n",
      "    interpreted as ``data[s]`` (unless this raises an exception).\n",
      "**kwargs : `.BrokenBarHCollection` properties\n",
      "\n",
      "    Each *kwarg* can be either a single argument applying to all\n",
      "    rectangles, e.g.::\n",
      "\n",
      "        facecolors='black'\n",
      "\n",
      "    or a sequence of arguments over which is cycled, e.g.::\n",
      "\n",
      "        facecolors=('black', 'blue')\n",
      "\n",
      "    would create interleaving black and blue rectangles.\n",
      "\n",
      "    Supported keywords:\n",
      "\n",
      "    Properties:\n",
      "    agg_filter: a filter function, which takes a (m, n, 3) float array and a dpi value, and returns a (m, n, 3) array and two offsets from the bottom left corner of the image\n",
      "    alpha: array-like or scalar or None\n",
      "    animated: bool\n",
      "    antialiased or aa or antialiaseds: bool or list of bools\n",
      "    array: array-like or None\n",
      "    capstyle: `.CapStyle` or {'butt', 'projecting', 'round'}\n",
      "    clim: (vmin: float, vmax: float)\n",
      "    clip_box: `.Bbox`\n",
      "    clip_on: bool\n",
      "    clip_path: Patch or (Path, Transform) or None\n",
      "    cmap: `.Colormap` or str or None\n",
      "    color: color or list of rgba tuples\n",
      "    edgecolor or ec or edgecolors: color or list of colors or 'face'\n",
      "    facecolor or facecolors or fc: color or list of colors\n",
      "    figure: `.Figure`\n",
      "    gid: str\n",
      "    hatch: {'/', '\\\\', '|', '-', '+', 'x', 'o', 'O', '.', '*'}\n",
      "    in_layout: bool\n",
      "    joinstyle: `.JoinStyle` or {'miter', 'round', 'bevel'}\n",
      "    label: object\n",
      "    linestyle or dashes or linestyles or ls: str or tuple or list thereof\n",
      "    linewidth or linewidths or lw: float or list of floats\n",
      "    mouseover: bool\n",
      "    norm: `.Normalize` or str or None\n",
      "    offset_transform or transOffset: unknown\n",
      "    offsets: (N, 2) or (2,) array-like\n",
      "    path_effects: `.AbstractPathEffect`\n",
      "    paths: list of array-like\n",
      "    picker: None or bool or float or callable\n",
      "    pickradius: unknown\n",
      "    rasterized: bool\n",
      "    sizes: ndarray or None\n",
      "    sketch_params: (scale: float, length: float, randomness: float)\n",
      "    snap: bool or None\n",
      "    transform: `.Transform`\n",
      "    url: str\n",
      "    urls: list of str or None\n",
      "    verts: list of array-like\n",
      "    verts_and_codes: unknown\n",
      "    visible: bool\n",
      "    zorder: float\n"
     ]
    }
   ],
   "source": [
    "from matplotlib import pyplot as plt\n",
    "\n",
    "print(plt.broken_barh.__doc__)"
   ]
  },
  {
   "cell_type": "code",
   "execution_count": 16,
   "outputs": [
    {
     "data": {
      "text/plain": "<Figure size 640x480 with 1 Axes>",
      "image/png": "[encoded data removed]"
     },
     "metadata": {},
     "output_type": "display_data"
    }
   ],
   "source": [
    "plt.broken_barh([(2,1), (3,1),(10, 1), (15, 4), (25, 6)],\n",
    "                (6,2))\n",
    "\n",
    "plt.show()"
   ],
   "metadata": {
    "collapsed": false
   }
  }
 ],
 "metadata": {
  "kernelspec": {
   "display_name": "Python 3",
   "language": "python",
   "name": "python3"
  },
  "language_info": {
   "codemirror_mode": {
    "name": "ipython",
    "version": 2
   },
   "file_extension": ".py",
   "mimetype": "text/x-python",
   "name": "python",
   "nbconvert_exporter": "python",
   "pygments_lexer": "ipython2",
   "version": "2.7.6"
  }
 },
 "nbformat": 4,
 "nbformat_minor": 0
}
