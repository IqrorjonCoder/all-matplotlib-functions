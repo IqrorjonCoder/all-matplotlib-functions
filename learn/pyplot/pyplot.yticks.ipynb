{
 "cells": [
  {
   "cell_type": "code",
   "execution_count": 1,
   "metadata": {
    "collapsed": true
   },
   "outputs": [
    {
     "name": "stdout",
     "output_type": "stream",
     "text": [
      "\n",
      "    Get or set the current tick locations and labels of the y-axis.\n",
      "\n",
      "    Pass no arguments to return the current values without modifying them.\n",
      "\n",
      "    Parameters\n",
      "    ----------\n",
      "    ticks : array-like, optional\n",
      "        The list of ytick locations.  Passing an empty list removes all yticks.\n",
      "    labels : array-like, optional\n",
      "        The labels to place at the given *ticks* locations.  This argument can\n",
      "        only be passed if *ticks* is passed as well.\n",
      "    minor : bool, default: False\n",
      "        If ``False``, get/set the major ticks/labels; if ``True``, the minor\n",
      "        ticks/labels.\n",
      "    **kwargs\n",
      "        `.Text` properties can be used to control the appearance of the labels.\n",
      "\n",
      "    Returns\n",
      "    -------\n",
      "    locs\n",
      "        The list of ytick locations.\n",
      "    labels\n",
      "        The list of ylabel `.Text` objects.\n",
      "\n",
      "    Notes\n",
      "    -----\n",
      "    Calling this function with no arguments (e.g. ``yticks()``) is the pyplot\n",
      "    equivalent of calling `~.Axes.get_yticks` and `~.Axes.get_yticklabels` on\n",
      "    the current axes.\n",
      "    Calling this function with arguments is the pyplot equivalent of calling\n",
      "    `~.Axes.set_yticks` and `~.Axes.set_yticklabels` on the current axes.\n",
      "\n",
      "    Examples\n",
      "    --------\n",
      "    >>> locs, labels = yticks()  # Get the current locations and labels.\n",
      "    >>> yticks(np.arange(0, 1, step=0.2))  # Set label locations.\n",
      "    >>> yticks(np.arange(3), ['Tom', 'Dick', 'Sue'])  # Set text labels.\n",
      "    >>> yticks([0, 1, 2], ['January', 'February', 'March'],\n",
      "    ...        rotation=45)  # Set text labels and properties.\n",
      "    >>> yticks([])  # Disable yticks.\n",
      "    \n"
     ]
    }
   ],
   "source": [
    "from matplotlib import pyplot as plt\n",
    "\n",
    "print(plt.yticks.__doc__)"
   ]
  },
  {
   "cell_type": "code",
   "execution_count": 3,
   "outputs": [
    {
     "data": {
      "text/plain": "<Figure size 640x480 with 1 Axes>",
      "image/png": "[encoded data removed]"
     },
     "metadata": {},
     "output_type": "display_data"
    }
   ],
   "source": [
    "plt.yticks([0,1,2],\n",
    "           ['zero', 'one', 'three'])\n",
    "\n",
    "plt.show()"
   ],
   "metadata": {
    "collapsed": false
   }
  }
 ],
 "metadata": {
  "kernelspec": {
   "display_name": "Python 3",
   "language": "python",
   "name": "python3"
  },
  "language_info": {
   "codemirror_mode": {
    "name": "ipython",
    "version": 2
   },
   "file_extension": ".py",
   "mimetype": "text/x-python",
   "name": "python",
   "nbconvert_exporter": "python",
   "pygments_lexer": "ipython2",
   "version": "2.7.6"
  }
 },
 "nbformat": 4,
 "nbformat_minor": 0
}
