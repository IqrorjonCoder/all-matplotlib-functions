{
 "cells": [
  {
   "cell_type": "code",
   "execution_count": 1,
   "metadata": {
    "collapsed": true
   },
   "outputs": [
    {
     "name": "stdout",
     "output_type": "stream",
     "text": [
      "[*Deprecated*] Add a colormap to the set recognized by :func:`get_cmap`.\n",
      "\n",
      "Register a new colormap to be accessed by name ::\n",
      "\n",
      "    LinearSegmentedColormap('swirly', data, lut)\n",
      "    register_cmap(cmap=swirly_cmap)\n",
      "\n",
      "Parameters\n",
      "----------\n",
      "name : str, optional\n",
      "   The name that can be used in :func:`get_cmap` or :rc:`image.cmap`\n",
      "\n",
      "   If absent, the name will be the :attr:`~matplotlib.colors.Colormap.name`\n",
      "   attribute of the *cmap*.\n",
      "\n",
      "cmap : matplotlib.colors.Colormap\n",
      "   Despite being the second argument and having a default value, this\n",
      "   is a required argument.\n",
      "\n",
      "override_builtin : bool\n",
      "\n",
      "    Allow built-in colormaps to be overridden by a user-supplied\n",
      "    colormap.\n",
      "\n",
      "    Please do not use this unless you are sure you need it.\n",
      "\n",
      "Notes\n",
      "-----\n",
      ".. deprecated:: 3.6\n",
      "   Use ``matplotlib.colormaps.register(name)`` instead.\n"
     ]
    }
   ],
   "source": [
    "from matplotlib import pyplot as plt\n",
    "import numpy as np\n",
    "\n",
    "print(plt.register_cmap.__doc__)"
   ]
  },
  {
   "cell_type": "code",
   "execution_count": 5,
   "outputs": [
    {
     "data": {
      "text/plain": "<matplotlib.colors.LinearSegmentedColormap at 0x7f36190c2730>",
      "text/html": "<div style=\"vertical-align: middle;\"><strong>Blues_r</strong> </div><div class=\"cmap\"><img alt=\"Blues_r colormap\" title=\"Blues_r\" style=\"border: 1px solid #555;\" src=\"data:image/png;base64,iVBORw0KGgoAAAANSUhEUgAAAgAAAABACAYAAABsv8+/AAAAFnRFWHRUaXRsZQBCbHVlc19yIGNvbG9ybWFwEglszQAAABx0RVh0RGVzY3JpcHRpb24AQmx1ZXNfciBjb2xvcm1hcLUn3bQAAAAwdEVYdEF1dGhvcgBNYXRwbG90bGliIHYzLjYuMiwgaHR0cHM6Ly9tYXRwbG90bGliLm9yZ3HOVV8AAAAydEVYdFNvZnR3YXJlAE1hdHBsb3RsaWIgdjMuNi4yLCBodHRwczovL21hdHBsb3RsaWIub3JnX2jKeAAAAcZJREFUeJzt1jFywjAAAEHZVZ6Tf+X/dVJkIIOIMAkMze02Hlu2JGOK297ePz7HGGNs2/g+7uM15y9eZz+673R5u3k8uu9Z87x+vXn80fPnzrvvr1l3P52Pg/Hp+X2ebxyMH8x3Hh93rrcaH3/b/zzvfn6Py+d/7vt93n2x/+V9i+vzPq6uL/Zxdf1qH6v3XHy/6XeY71v+b+Z9z99z3P5eV+Or77p4bj2+et9xoTq+jcsL/x3fpgWPfv/x4Pjd7zf9rwGAEAEAAEECAACCBAAABAkAAAgSAAAQJAAAIEgAAECQAACAIAEAAEECAACCBAAABAkAAAgSAAAQJAAAIEgAAECQAACAIAEAAEECAACCBAAABAkAAAgSAAAQJAAAIEgAAECQAACAIAEAAEECAACCBAAABAkAAAgSAAAQJAAAIEgAAECQAACAIAEAAEECAACCBAAABAkAAAgSAAAQJAAAIEgAAECQAACAIAEAAEECAACCBAAABAkAAAgSAAAQJAAAIEgAAECQAACAIAEAAEECAACCBAAABAkAAAgSAAAQJAAAIEgAAECQAACAIAEAAEECAACCBAAABAkAAAgSAAAQJAAAIOgLE48EcKnNmOMAAAAASUVORK5CYII=\"></div><div style=\"vertical-align: middle; max-width: 514px; display: flex; justify-content: space-between;\"><div style=\"float: left;\"><div title=\"#08306bff\" style=\"display: inline-block; width: 1em; height: 1em; margin: 0; vertical-align: middle; border: 1px solid #555; background-color: #08306bff;\"></div> under</div><div style=\"margin: 0 auto; display: inline-block;\">bad <div title=\"#00000000\" style=\"display: inline-block; width: 1em; height: 1em; margin: 0; vertical-align: middle; border: 1px solid #555; background-color: #00000000;\"></div></div><div style=\"float: right;\">over <div title=\"#f7fbffff\" style=\"display: inline-block; width: 1em; height: 1em; margin: 0; vertical-align: middle; border: 1px solid #555; background-color: #f7fbffff;\"></div></div>",
      "image/png": "[encoded data removed]"
     },
     "execution_count": 5,
     "metadata": {},
     "output_type": "execute_result"
    }
   ],
   "source": [
    "# plt.register_cmap(name='i_love_color', cmap=plt.get_cmap('Blues_r'))\n",
    "plt.get_cmap('i_love_color')"
   ],
   "metadata": {
    "collapsed": false
   }
  }
 ],
 "metadata": {
  "kernelspec": {
   "display_name": "Python 3",
   "language": "python",
   "name": "python3"
  },
  "language_info": {
   "codemirror_mode": {
    "name": "ipython",
    "version": 2
   },
   "file_extension": ".py",
   "mimetype": "text/x-python",
   "name": "python",
   "nbconvert_exporter": "python",
   "pygments_lexer": "ipython2",
   "version": "2.7.6"
  }
 },
 "nbformat": 4,
 "nbformat_minor": 0
}
