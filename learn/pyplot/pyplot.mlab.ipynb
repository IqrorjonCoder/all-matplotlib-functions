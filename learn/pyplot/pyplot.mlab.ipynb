{
 "cells": [
  {
   "cell_type": "code",
   "execution_count": 2,
   "metadata": {
    "collapsed": true
   },
   "outputs": [
    {
     "name": "stdout",
     "output_type": "stream",
     "text": [
      "\n",
      "Numerical Python functions written for compatibility with MATLAB\n",
      "commands with the same names. Most numerical Python functions can be found in\n",
      "the `NumPy`_ and `SciPy`_ libraries. What remains here is code for performing\n",
      "spectral computations and kernel density estimations.\n",
      "\n",
      ".. _NumPy: https://numpy.org\n",
      ".. _SciPy: https://www.scipy.org\n",
      "\n",
      "Spectral functions\n",
      "------------------\n",
      "\n",
      "`cohere`\n",
      "    Coherence (normalized cross spectral density)\n",
      "\n",
      "`csd`\n",
      "    Cross spectral density using Welch's average periodogram\n",
      "\n",
      "`detrend`\n",
      "    Remove the mean or best fit line from an array\n",
      "\n",
      "`psd`\n",
      "    Power spectral density using Welch's average periodogram\n",
      "\n",
      "`specgram`\n",
      "    Spectrogram (spectrum over segments of time)\n",
      "\n",
      "`complex_spectrum`\n",
      "    Return the complex-valued frequency spectrum of a signal\n",
      "\n",
      "`magnitude_spectrum`\n",
      "    Return the magnitude of the frequency spectrum of a signal\n",
      "\n",
      "`angle_spectrum`\n",
      "    Return the angle (wrapped phase) of the frequency spectrum of a signal\n",
      "\n",
      "`phase_spectrum`\n",
      "    Return the phase (unwrapped angle) of the frequency spectrum of a signal\n",
      "\n",
      "`detrend_mean`\n",
      "    Remove the mean from a line.\n",
      "\n",
      "`detrend_linear`\n",
      "    Remove the best fit line from a line.\n",
      "\n",
      "`detrend_none`\n",
      "    Return the original line.\n",
      "\n",
      "`stride_windows`\n",
      "    Get all windows in an array in a memory-efficient manner\n",
      "\n"
     ]
    }
   ],
   "source": [
    "from matplotlib import pyplot as plt\n",
    "\n",
    "print(plt.mlab.__doc__)"
   ]
  },
  {
   "cell_type": "code",
   "execution_count": 3,
   "outputs": [
    {
     "data": {
      "text/plain": "array([0.84147098, 0.90929743, 0.14112001])"
     },
     "execution_count": 3,
     "metadata": {},
     "output_type": "execute_result"
    }
   ],
   "source": [
    "plt.mlab.np.sin([1,2,3])"
   ],
   "metadata": {
    "collapsed": false
   }
  }
 ],
 "metadata": {
  "kernelspec": {
   "display_name": "Python 3",
   "language": "python",
   "name": "python3"
  },
  "language_info": {
   "codemirror_mode": {
    "name": "ipython",
    "version": 2
   },
   "file_extension": ".py",
   "mimetype": "text/x-python",
   "name": "python",
   "nbconvert_exporter": "python",
   "pygments_lexer": "ipython2",
   "version": "2.7.6"
  }
 },
 "nbformat": 4,
 "nbformat_minor": 0
}
