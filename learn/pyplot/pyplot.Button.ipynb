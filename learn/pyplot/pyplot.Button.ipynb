{
 "cells": [
  {
   "cell_type": "code",
   "execution_count": 2,
   "metadata": {
    "collapsed": true
   },
   "outputs": [
    {
     "name": "stdout",
     "output_type": "stream",
     "text": [
      "\n",
      "    A GUI neutral button.\n",
      "\n",
      "    For the button to remain responsive you must keep a reference to it.\n",
      "    Call `.on_clicked` to connect to the button.\n",
      "\n",
      "    Attributes\n",
      "    ----------\n",
      "    ax\n",
      "        The `matplotlib.axes.Axes` the button renders into.\n",
      "    label\n",
      "        A `matplotlib.text.Text` instance.\n",
      "    color\n",
      "        The color of the button when not hovering.\n",
      "    hovercolor\n",
      "        The color of the button when hovering.\n",
      "    \n"
     ]
    }
   ],
   "source": [
    "from matplotlib import pyplot as plt\n",
    "\n",
    "print(plt.Button.__doc__)"
   ]
  },
  {
   "cell_type": "code",
   "execution_count": 35,
   "outputs": [
    {
     "data": {
      "text/plain": "<Figure size 640x480 with 2 Axes>",
      "image/png": "[encoded data removed]"
     },
     "metadata": {},
     "output_type": "display_data"
    }
   ],
   "source": [
    "from matplotlib import pyplot as plt\n",
    "import numpy as np\n",
    "\n",
    "fig, axes = plt.subplots()\n",
    "\n",
    "\n",
    "def x(val):\n",
    "    axes.cla()\n",
    "    axes.plot(np.random.random(20),\n",
    "             np.random.random(20))\n",
    "\n",
    "\n",
    "btn = plt.Button(plt.axes([0.4, 0.0001, 0.2, 0.1]), 'Simple', color='red', hovercolor='blue')\n",
    "\n",
    "btn.on_clicked(x)\n",
    "plt.show()\n",
    "\n",
    "# use the codes in xxx.py file and run it using terminal\n",
    "#terminal -- >>>python3 xxx.py"
   ],
   "metadata": {
    "collapsed": false
   }
  }
 ],
 "metadata": {
  "kernelspec": {
   "display_name": "Python 3",
   "language": "python",
   "name": "python3"
  },
  "language_info": {
   "codemirror_mode": {
    "name": "ipython",
    "version": 2
   },
   "file_extension": ".py",
   "mimetype": "text/x-python",
   "name": "python",
   "nbconvert_exporter": "python",
   "pygments_lexer": "ipython2",
   "version": "2.7.6"
  }
 },
 "nbformat": 4,
 "nbformat_minor": 0
}
