{
 "cells": [
  {
   "cell_type": "code",
   "execution_count": 2,
   "metadata": {
    "collapsed": true
   },
   "outputs": [
    {
     "name": "stdout",
     "output_type": "stream",
     "text": [
      "Plot identical parallel lines at the given positions.\n",
      "\n",
      "This type of plot is commonly used in neuroscience for representing\n",
      "neural events, where it is usually called a spike raster, dot raster,\n",
      "or raster plot.\n",
      "\n",
      "However, it is useful in any situation where you wish to show the\n",
      "timing or position of multiple sets of discrete events, such as the\n",
      "arrival times of people to a business on each day of the month or the\n",
      "date of hurricanes each year of the last century.\n",
      "\n",
      "Parameters\n",
      "----------\n",
      "positions : array-like or list of array-like\n",
      "    A 1D array-like defines the positions of one sequence of events.\n",
      "\n",
      "    Multiple groups of events may be passed as a list of array-likes.\n",
      "    Each group can be styled independently by passing lists of values\n",
      "    to *lineoffsets*, *linelengths*, *linewidths*, *colors* and\n",
      "    *linestyles*.\n",
      "\n",
      "    Note that *positions* can be a 2D array, but in practice different\n",
      "    event groups usually have different counts so that one will use a\n",
      "    list of different-length arrays rather than a 2D array.\n",
      "\n",
      "orientation : {'horizontal', 'vertical'}, default: 'horizontal'\n",
      "    The direction of the event sequence:\n",
      "\n",
      "    - 'horizontal': the events are arranged horizontally.\n",
      "      The indicator lines are vertical.\n",
      "    - 'vertical': the events are arranged vertically.\n",
      "      The indicator lines are horizontal.\n",
      "\n",
      "lineoffsets : float or array-like, default: 1\n",
      "    The offset of the center of the lines from the origin, in the\n",
      "    direction orthogonal to *orientation*.\n",
      "\n",
      "    If *positions* is 2D, this can be a sequence with length matching\n",
      "    the length of *positions*.\n",
      "\n",
      "linelengths : float or array-like, default: 1\n",
      "    The total height of the lines (i.e. the lines stretches from\n",
      "    ``lineoffset - linelength/2`` to ``lineoffset + linelength/2``).\n",
      "\n",
      "    If *positions* is 2D, this can be a sequence with length matching\n",
      "    the length of *positions*.\n",
      "\n",
      "linewidths : float or array-like, default: :rc:`lines.linewidth`\n",
      "    The line width(s) of the event lines, in points.\n",
      "\n",
      "    If *positions* is 2D, this can be a sequence with length matching\n",
      "    the length of *positions*.\n",
      "\n",
      "colors : color or list of colors, default: :rc:`lines.color`\n",
      "    The color(s) of the event lines.\n",
      "\n",
      "    If *positions* is 2D, this can be a sequence with length matching\n",
      "    the length of *positions*.\n",
      "\n",
      "linestyles : str or tuple or list of such values, default: 'solid'\n",
      "    Default is 'solid'. Valid strings are ['solid', 'dashed',\n",
      "    'dashdot', 'dotted', '-', '--', '-.', ':']. Dash tuples\n",
      "    should be of the form::\n",
      "\n",
      "        (offset, onoffseq),\n",
      "\n",
      "    where *onoffseq* is an even length tuple of on and off ink\n",
      "    in points.\n",
      "\n",
      "    If *positions* is 2D, this can be a sequence with length matching\n",
      "    the length of *positions*.\n",
      "\n",
      "data : indexable object, optional\n",
      "    If given, the following parameters also accept a string ``s``, which is\n",
      "    interpreted as ``data[s]`` (unless this raises an exception):\n",
      "\n",
      "    *positions*, *lineoffsets*, *linelengths*, *linewidths*, *colors*, *linestyles*\n",
      "\n",
      "**kwargs\n",
      "    Other keyword arguments are line collection properties.  See\n",
      "    `.LineCollection` for a list of the valid properties.\n",
      "\n",
      "Returns\n",
      "-------\n",
      "list of `.EventCollection`\n",
      "    The `.EventCollection` that were added.\n",
      "\n",
      "Notes\n",
      "-----\n",
      "For *linelengths*, *linewidths*, *colors*, and *linestyles*, if only\n",
      "a single value is given, that value is applied to all lines.  If an\n",
      "array-like is given, it must have the same length as *positions*, and\n",
      "each value will be applied to the corresponding row of the array.\n",
      "\n",
      "Examples\n",
      "--------\n",
      ".. plot:: gallery/lines_bars_and_markers/eventplot_demo.py\n"
     ]
    }
   ],
   "source": [
    "from matplotlib import pyplot as plt\n",
    "import numpy as np\n",
    "\n",
    "print(plt.eventplot.__doc__)"
   ]
  },
  {
   "cell_type": "code",
   "execution_count": 31,
   "outputs": [
    {
     "data": {
      "text/plain": "<Figure size 640x480 with 1 Axes>",
      "image/png": "[encoded data removed]"
     },
     "metadata": {},
     "output_type": "display_data"
    }
   ],
   "source": [
    "plt.eventplot(np.random.random(100),\n",
    "              orientation='vertical',\n",
    "              linelengths=10,\n",
    "              linewidths=1.8,\n",
    "              linestyles='-')\n",
    "\n",
    "plt.show()"
   ],
   "metadata": {
    "collapsed": false
   }
  }
 ],
 "metadata": {
  "kernelspec": {
   "display_name": "Python 3",
   "language": "python",
   "name": "python3"
  },
  "language_info": {
   "codemirror_mode": {
    "name": "ipython",
    "version": 2
   },
   "file_extension": ".py",
   "mimetype": "text/x-python",
   "name": "python",
   "nbconvert_exporter": "python",
   "pygments_lexer": "ipython2",
   "version": "2.7.6"
  }
 },
 "nbformat": 4,
 "nbformat_minor": 0
}
