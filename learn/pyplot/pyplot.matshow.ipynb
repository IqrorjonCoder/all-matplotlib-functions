{
 "cells": [
  {
   "cell_type": "code",
   "execution_count": 1,
   "metadata": {
    "collapsed": true
   },
   "outputs": [
    {
     "name": "stdout",
     "output_type": "stream",
     "text": [
      "\n",
      "    Display an array as a matrix in a new figure window.\n",
      "\n",
      "    The origin is set at the upper left hand corner and rows (first\n",
      "    dimension of the array) are displayed horizontally.  The aspect\n",
      "    ratio of the figure window is that of the array, unless this would\n",
      "    make an excessively short or narrow figure.\n",
      "\n",
      "    Tick labels for the xaxis are placed on top.\n",
      "\n",
      "    Parameters\n",
      "    ----------\n",
      "    A : 2D array-like\n",
      "        The matrix to be displayed.\n",
      "\n",
      "    fignum : None or int or False\n",
      "        If *None*, create a new figure window with automatic numbering.\n",
      "\n",
      "        If a nonzero integer, draw into the figure with the given number\n",
      "        (create it if it does not exist).\n",
      "\n",
      "        If 0, use the current axes (or create one if it does not exist).\n",
      "\n",
      "        .. note::\n",
      "\n",
      "           Because of how `.Axes.matshow` tries to set the figure aspect\n",
      "           ratio to be the one of the array, strange things may happen if you\n",
      "           reuse an existing figure.\n",
      "\n",
      "    Returns\n",
      "    -------\n",
      "    `~matplotlib.image.AxesImage`\n",
      "\n",
      "    Other Parameters\n",
      "    ----------------\n",
      "    **kwargs : `~matplotlib.axes.Axes.imshow` arguments\n",
      "\n",
      "    \n"
     ]
    }
   ],
   "source": [
    "from matplotlib import pyplot as plt\n",
    "\n",
    "print(plt.matshow.__doc__)"
   ]
  },
  {
   "cell_type": "code",
   "execution_count": 5,
   "outputs": [
    {
     "data": {
      "text/plain": "<matplotlib.image.AxesImage at 0x7f1bb0fcc100>"
     },
     "execution_count": 5,
     "metadata": {},
     "output_type": "execute_result"
    },
    {
     "data": {
      "text/plain": "<Figure size 720x480 with 1 Axes>",
      "image/png": "[encoded data removed]"
     },
     "metadata": {},
     "output_type": "display_data"
    }
   ],
   "source": [
    "plt.matshow(A=[[1,2,3],\n",
    "               [2,3,1]],)"
   ],
   "metadata": {
    "collapsed": false
   }
  }
 ],
 "metadata": {
  "kernelspec": {
   "display_name": "Python 3",
   "language": "python",
   "name": "python3"
  },
  "language_info": {
   "codemirror_mode": {
    "name": "ipython",
    "version": 2
   },
   "file_extension": ".py",
   "mimetype": "text/x-python",
   "name": "python",
   "nbconvert_exporter": "python",
   "pygments_lexer": "ipython2",
   "version": "2.7.6"
  }
 },
 "nbformat": 4,
 "nbformat_minor": 0
}
