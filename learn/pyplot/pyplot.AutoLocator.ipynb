{
 "cells": [
  {
   "cell_type": "code",
   "execution_count": 21,
   "metadata": {
    "collapsed": true
   },
   "outputs": [
    {
     "name": "stdout",
     "output_type": "stream",
     "text": [
      "0 MAXTICKS\n",
      "1 axis\n",
      "2 create_dummy_axis\n",
      "3 default_params\n",
      "4 nonsingular\n",
      "5 raise_if_exceeds\n",
      "6 set_axis\n",
      "7 set_bounds\n",
      "8 set_data_interval\n",
      "9 set_params\n",
      "10 set_view_interval\n",
      "11 tick_values\n",
      "12 view_limits\n"
     ]
    }
   ],
   "source": [
    "from matplotlib import pyplot as plt\n",
    "\n",
    "functions = [i for i in dir(plt.AutoLocator) if i[0] != '_']\n",
    "\n",
    "for i, v in enumerate(functions):\n",
    "    print(i, v)"
   ]
  }
 ],
 "metadata": {
  "kernelspec": {
   "display_name": "Python 3",
   "language": "python",
   "name": "python3"
  },
  "language_info": {
   "codemirror_mode": {
    "name": "ipython",
    "version": 2
   },
   "file_extension": ".py",
   "mimetype": "text/x-python",
   "name": "python",
   "nbconvert_exporter": "python",
   "pygments_lexer": "ipython2",
   "version": "2.7.6"
  }
 },
 "nbformat": 4,
 "nbformat_minor": 0
}
