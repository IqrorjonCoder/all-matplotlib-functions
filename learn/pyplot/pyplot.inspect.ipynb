{
 "cells": [
  {
   "cell_type": "code",
   "execution_count": 3,
   "metadata": {
    "collapsed": true
   },
   "outputs": [
    {
     "name": "stdout",
     "output_type": "stream",
     "text": [
      "Get useful information from live Python objects.\n",
      "\n",
      "This module encapsulates the interface provided by the internal special\n",
      "attributes (co_*, im_*, tb_*, etc.) in a friendlier fashion.\n",
      "It also provides some help for examining source code and class layout.\n",
      "\n",
      "Here are some of the useful functions provided by this module:\n",
      "\n",
      "    ismodule(), isclass(), ismethod(), isfunction(), isgeneratorfunction(),\n",
      "        isgenerator(), istraceback(), isframe(), iscode(), isbuiltin(),\n",
      "        isroutine() - check object types\n",
      "    getmembers() - get members of an object that satisfy a given condition\n",
      "\n",
      "    getfile(), getsourcefile(), getsource() - find an object's source code\n",
      "    getdoc(), getcomments() - get documentation on an object\n",
      "    getmodule() - determine the module that an object came from\n",
      "    getclasstree() - arrange classes so as to represent their hierarchy\n",
      "\n",
      "    getargvalues(), getcallargs() - get info about function arguments\n",
      "    getfullargspec() - same, with support for Python 3 features\n",
      "    formatargvalues() - format an argument spec\n",
      "    getouterframes(), getinnerframes() - get info about frames\n",
      "    currentframe() - get the current stack frame\n",
      "    stack(), trace() - get info about frames on the stack or in a traceback\n",
      "\n",
      "    signature() - get a Signature object for the callable\n",
      "\n"
     ]
    }
   ],
   "source": [
    "from matplotlib import pyplot as plt\n",
    "\n",
    "print(plt.inspect.__doc__)"
   ]
  },
  {
   "cell_type": "code",
   "execution_count": 12,
   "outputs": [
    {
     "data": {
      "text/plain": "'/home/iqrorjoon/PycharmProjects/all matplotlib functions/venv/lib/python3.8/site-packages/matplotlib/artist.py'"
     },
     "execution_count": 12,
     "metadata": {},
     "output_type": "execute_result"
    }
   ],
   "source": [
    "plt.inspect.getsourcefile(plt.Artist)"
   ],
   "metadata": {
    "collapsed": false
   }
  }
 ],
 "metadata": {
  "kernelspec": {
   "display_name": "Python 3",
   "language": "python",
   "name": "python3"
  },
  "language_info": {
   "codemirror_mode": {
    "name": "ipython",
    "version": 2
   },
   "file_extension": ".py",
   "mimetype": "text/x-python",
   "name": "python",
   "nbconvert_exporter": "python",
   "pygments_lexer": "ipython2",
   "version": "2.7.6"
  }
 },
 "nbformat": 4,
 "nbformat_minor": 0
}
