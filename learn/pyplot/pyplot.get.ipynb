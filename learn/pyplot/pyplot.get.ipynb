{
 "cells": [
  {
   "cell_type": "code",
   "execution_count": 1,
   "metadata": {
    "collapsed": true
   },
   "outputs": [
    {
     "name": "stdout",
     "output_type": "stream",
     "text": [
      "\n",
      "    Return the value of an `.Artist`'s *property*, or print all of them.\n",
      "\n",
      "    Parameters\n",
      "    ----------\n",
      "    obj : `.Artist`\n",
      "        The queried artist; e.g., a `.Line2D`, a `.Text`, or an `~.axes.Axes`.\n",
      "\n",
      "    property : str or None, default: None\n",
      "        If *property* is 'somename', this function returns\n",
      "        ``obj.get_somename()``.\n",
      "\n",
      "        If it's None (or unset), it *prints* all gettable properties from\n",
      "        *obj*.  Many properties have aliases for shorter typing, e.g. 'lw' is\n",
      "        an alias for 'linewidth'.  In the output, aliases and full property\n",
      "        names will be listed as:\n",
      "\n",
      "          property or alias = value\n",
      "\n",
      "        e.g.:\n",
      "\n",
      "          linewidth or lw = 2\n",
      "\n",
      "    See Also\n",
      "    --------\n",
      "    setp\n",
      "    \n"
     ]
    }
   ],
   "source": [
    "from matplotlib import pyplot as plt\n",
    "\n",
    "print(plt.get.__doc__)"
   ]
  },
  {
   "cell_type": "code",
   "execution_count": 9,
   "outputs": [
    {
     "name": "stdout",
     "output_type": "stream",
     "text": [
      "    agg_filter = None\n",
      "    alpha = None\n",
      "    animated = False\n",
      "    antialiased or aa = True\n",
      "    bbox = Bbox(x0=1.0, y0=1.0, x1=2.0, y1=4.0)\n",
      "    children = []\n",
      "    clip_box = TransformedBbox(     Bbox(x0=0.0, y0=0.0, x1=1.0, ...\n",
      "    clip_on = True\n",
      "    clip_path = None\n",
      "    color or c = #1f77b4\n",
      "    dash_capstyle = butt\n",
      "    dash_joinstyle = round\n",
      "    data = (array([1, 2]), array([4, 1]))\n",
      "    drawstyle or ds = default\n",
      "    figure = Figure(640x480)\n",
      "    fillstyle = full\n",
      "    gapcolor = None\n",
      "    gid = None\n",
      "    in_layout = True\n",
      "    label = _child0\n",
      "    linestyle or ls = -\n",
      "    linewidth or lw = 1.5\n",
      "    marker = None\n",
      "    markeredgecolor or mec = #1f77b4\n",
      "    markeredgewidth or mew = 1.0\n",
      "    markerfacecolor or mfc = #1f77b4\n",
      "    markerfacecoloralt or mfcalt = none\n",
      "    markersize or ms = 6.0\n",
      "    markevery = None\n",
      "    mouseover = False\n",
      "    path = Path(array([[1., 4.],        [2., 1.]]), None)\n",
      "    path_effects = []\n",
      "    picker = None\n",
      "    pickradius = 5\n",
      "    rasterized = False\n",
      "    sketch_params = None\n",
      "    snap = None\n",
      "    solid_capstyle = projecting\n",
      "    solid_joinstyle = round\n",
      "    tightbbox = Bbox(x0=576.0, y0=422.4, x1=576.0, y1=422.4)\n",
      "    transform = CompositeGenericTransform(     TransformWrapper(  ...\n",
      "    transformed_clip_path_and_affine = (None, None)\n",
      "    url = None\n",
      "    visible = True\n",
      "    window_extent = Bbox(x0=576.0, y0=422.4, x1=1072.0, y1=1531.199999...\n",
      "    xdata = [1 2]\n",
      "    xydata = [[1. 4.]  [2. 1.]]\n",
      "    ydata = [4 1]\n",
      "    zorder = 2\n"
     ]
    },
    {
     "data": {
      "text/plain": "<Figure size 640x480 with 1 Axes>",
      "image/png": "[encoded data removed]"
     },
     "metadata": {},
     "output_type": "display_data"
    }
   ],
   "source": [
    "x = plt.plot([1,2],\n",
    "         [4,1])\n",
    "plt.get(x)\n",
    "plt.show()"
   ],
   "metadata": {
    "collapsed": false
   }
  }
 ],
 "metadata": {
  "kernelspec": {
   "display_name": "Python 3",
   "language": "python",
   "name": "python3"
  },
  "language_info": {
   "codemirror_mode": {
    "name": "ipython",
    "version": 2
   },
   "file_extension": ".py",
   "mimetype": "text/x-python",
   "name": "python",
   "nbconvert_exporter": "python",
   "pygments_lexer": "ipython2",
   "version": "2.7.6"
  }
 },
 "nbformat": 4,
 "nbformat_minor": 0
}
