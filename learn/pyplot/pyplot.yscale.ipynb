{
 "cells": [
  {
   "cell_type": "code",
   "execution_count": 1,
   "metadata": {
    "collapsed": true
   },
   "outputs": [
    {
     "name": "stdout",
     "output_type": "stream",
     "text": [
      "Set the yaxis' scale.\n",
      "\n",
      "Parameters\n",
      "----------\n",
      "value : {\"linear\", \"log\", \"symlog\", \"logit\", ...} or `.ScaleBase`\n",
      "    The axis scale type to apply.\n",
      "\n",
      "**kwargs\n",
      "    Different keyword arguments are accepted, depending on the scale.\n",
      "    See the respective class keyword arguments:\n",
      "\n",
      "    - `matplotlib.scale.LinearScale`\n",
      "    - `matplotlib.scale.LogScale`\n",
      "    - `matplotlib.scale.SymmetricalLogScale`\n",
      "    - `matplotlib.scale.LogitScale`\n",
      "    - `matplotlib.scale.FuncScale`\n",
      "\n",
      "Notes\n",
      "-----\n",
      "By default, Matplotlib supports the above mentioned scales.\n",
      "Additionally, custom scales may be registered using\n",
      "`matplotlib.scale.register_scale`. These scales can then also\n",
      "be used here.\n"
     ]
    }
   ],
   "source": [
    "from matplotlib import pyplot as plt\n",
    "\n",
    "print(plt.yscale.__doc__)"
   ]
  },
  {
   "cell_type": "code",
   "execution_count": 3,
   "outputs": [
    {
     "data": {
      "text/plain": "<Figure size 640x480 with 1 Axes>",
      "image/png": "[encoded data removed]"
     },
     "metadata": {},
     "output_type": "display_data"
    }
   ],
   "source": [
    "plt.yscale('symlog')\n",
    "\n",
    "plt.show()"
   ],
   "metadata": {
    "collapsed": false
   }
  }
 ],
 "metadata": {
  "kernelspec": {
   "display_name": "Python 3",
   "language": "python",
   "name": "python3"
  },
  "language_info": {
   "codemirror_mode": {
    "name": "ipython",
    "version": 2
   },
   "file_extension": ".py",
   "mimetype": "text/x-python",
   "name": "python",
   "nbconvert_exporter": "python",
   "pygments_lexer": "ipython2",
   "version": "2.7.6"
  }
 },
 "nbformat": 4,
 "nbformat_minor": 0
}
