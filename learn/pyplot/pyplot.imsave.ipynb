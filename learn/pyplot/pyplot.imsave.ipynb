{
 "cells": [
  {
   "cell_type": "code",
   "execution_count": 1,
   "metadata": {
    "collapsed": true
   },
   "outputs": [
    {
     "name": "stdout",
     "output_type": "stream",
     "text": [
      "\n",
      "    Colormap and save an array as an image file.\n",
      "\n",
      "    RGB(A) images are passed through.  Single channel images will be\n",
      "    colormapped according to *cmap* and *norm*.\n",
      "\n",
      "    .. note ::\n",
      "\n",
      "       If you want to save a single channel image as gray scale please use an\n",
      "       image I/O library (such as pillow, tifffile, or imageio) directly.\n",
      "\n",
      "    Parameters\n",
      "    ----------\n",
      "    fname : str or path-like or file-like\n",
      "        A path or a file-like object to store the image in.\n",
      "        If *format* is not set, then the output format is inferred from the\n",
      "        extension of *fname*, if any, and from :rc:`savefig.format` otherwise.\n",
      "        If *format* is set, it determines the output format.\n",
      "    arr : array-like\n",
      "        The image data. The shape can be one of\n",
      "        MxN (luminance), MxNx3 (RGB) or MxNx4 (RGBA).\n",
      "    vmin, vmax : float, optional\n",
      "        *vmin* and *vmax* set the color scaling for the image by fixing the\n",
      "        values that map to the colormap color limits. If either *vmin*\n",
      "        or *vmax* is None, that limit is determined from the *arr*\n",
      "        min/max value.\n",
      "    cmap : str or `~matplotlib.colors.Colormap`, default: :rc:`image.cmap`\n",
      "        A Colormap instance or registered colormap name. The colormap\n",
      "        maps scalar data to colors. It is ignored for RGB(A) data.\n",
      "    format : str, optional\n",
      "        The file format, e.g. 'png', 'pdf', 'svg', ...  The behavior when this\n",
      "        is unset is documented under *fname*.\n",
      "    origin : {'upper', 'lower'}, default: :rc:`image.origin`\n",
      "        Indicates whether the ``(0, 0)`` index of the array is in the upper\n",
      "        left or lower left corner of the axes.\n",
      "    dpi : float\n",
      "        The DPI to store in the metadata of the file.  This does not affect the\n",
      "        resolution of the output image.  Depending on file format, this may be\n",
      "        rounded to the nearest integer.\n",
      "    metadata : dict, optional\n",
      "        Metadata in the image file.  The supported keys depend on the output\n",
      "        format, see the documentation of the respective backends for more\n",
      "        information.\n",
      "    pil_kwargs : dict, optional\n",
      "        Keyword arguments passed to `PIL.Image.Image.save`.  If the 'pnginfo'\n",
      "        key is present, it completely overrides *metadata*, including the\n",
      "        default 'Software' key.\n",
      "    \n"
     ]
    }
   ],
   "source": [
    "from matplotlib import pyplot as plt\n",
    "\n",
    "print(plt.imsave.__doc__)"
   ]
  },
  {
   "cell_type": "code",
   "execution_count": 11,
   "outputs": [],
   "source": [
    "\n",
    "im_arr = (plt.imread(\"/home/iqrorjoon/PycharmProjects/all matplotlib functions/base/simple_image.jpg\"))\n",
    "\n",
    "plt.imsave(fname=\"/home/iqrorjoon/PycharmProjects/all matplotlib functions/base/imsave_png2.png\",\n",
    "           arr=[[[1,2,3],\n",
    "                 [4,5,6],\n",
    "                 [7,8,9]],\n",
    "                [[10,11,12],\n",
    "                 [13,14,15],\n",
    "                 [16,17,18]],\n",
    "                [[19,20,21],\n",
    "                 [22,23,24],\n",
    "                 [25,26,27]]]) #arr=im_arr"
   ],
   "metadata": {
    "collapsed": false
   }
  }
 ],
 "metadata": {
  "kernelspec": {
   "display_name": "Python 3",
   "language": "python",
   "name": "python3"
  },
  "language_info": {
   "codemirror_mode": {
    "name": "ipython",
    "version": 2
   },
   "file_extension": ".py",
   "mimetype": "text/x-python",
   "name": "python",
   "nbconvert_exporter": "python",
   "pygments_lexer": "ipython2",
   "version": "2.7.6"
  }
 },
 "nbformat": 4,
 "nbformat_minor": 0
}
